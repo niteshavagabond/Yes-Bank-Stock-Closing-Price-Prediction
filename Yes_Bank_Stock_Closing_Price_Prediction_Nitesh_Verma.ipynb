{
  "nbformat": 4,
  "nbformat_minor": 0,
  "metadata": {
    "colab": {
      "provenance": [],
      "collapsed_sections": [],
      "mount_file_id": "1Dx50fmDf1-2r_EE5U-W_ZSlsJK_SFL5D",
      "authorship_tag": "ABX9TyMpystsR+1qPDixcgf2vp6J",
      "include_colab_link": true
    },
    "kernelspec": {
      "name": "python3",
      "display_name": "Python 3"
    },
    "language_info": {
      "name": "python"
    }
  },
  "cells": [
    {
      "cell_type": "markdown",
      "metadata": {
        "id": "view-in-github",
        "colab_type": "text"
      },
      "source": [
        "<a href=\"https://colab.research.google.com/github/niteshavagabond/Yes-Bank-Stock-Closing-Price-Prediction/blob/main/Yes_Bank_Stock_Closing_Price_Prediction_Nitesh_Verma.ipynb\" target=\"_parent\"><img src=\"https://colab.research.google.com/assets/colab-badge.svg\" alt=\"Open In Colab\"/></a>"
      ]
    },
    {
      "cell_type": "markdown",
      "source": [
        "# Yes Bank Stock Closing Price Prediction\n"
      ],
      "metadata": {
        "id": "ITbhYcatoe-1"
      }
    },
    {
      "cell_type": "markdown",
      "source": [
        "## Problem Statement\n",
        "\n",
        "Yes Bank is a well-known bank in the Indian financial domain. Since 2018, it has been in the\n",
        "news because of the fraud case involving Rana Kapoor. Owing to this fact, it was interesting\n",
        "to see how that impacted the stock prices of the company and whether Time series models\n",
        "or any other predictive models can do justice to such situations. This dataset has monthly\n",
        "stock prices of the bank since its inception and includes closing, starting, highest, and lowest\n",
        "stock prices of every month. The main objective is to predict the stock’s closing price of the\n",
        "month."
      ],
      "metadata": {
        "id": "5UL40oWdtLDS"
      }
    },
    {
      "cell_type": "code",
      "source": [
        "# importing libraries\n",
        "import pandas as pd\n",
        "import numpy as np\n",
        "from numpy import math\n",
        "import seaborn as sns\n",
        "import matplotlib.pyplot as plt\n",
        "from datetime import datetime\n",
        "from datetime import date\n",
        "%matplotlib inline\n",
        "\n",
        "\n",
        "from sklearn.preprocessing import MinMaxScaler\n",
        "from sklearn.model_selection import train_test_split\n",
        "from sklearn.metrics import r2_score\n",
        "from sklearn.metrics import mean_squared_error\n",
        "from sklearn.linear_model import LinearRegression\n",
        "##cv\n",
        "from sklearn.model_selection import cross_val_score\n",
        "\n",
        "import warnings\n",
        "warnings.filterwarnings('ignore')\n",
        "import plotly.express as px\n",
        "plt.style.use('fivethirtyeight')\n",
        "from pylab import rcParams\n",
        "rcParams['figure.figsize'] = (10,6)\n",
        "#Import libraries for Regressor\n",
        "import math\n",
        "from sklearn import neighbors\n",
        "from sklearn.model_selection import GridSearchCV\n",
        "from sklearn import metrics\n",
        "from sklearn.metrics import mean_squared_error\n",
        "from sklearn.metrics import mean_absolute_error\n",
        "from sklearn import model_selection\n",
        "from sklearn.model_selection import KFold\n",
        "from sklearn.linear_model import Lasso\n",
        "\n",
        "from xgboost import XGBRegressor                       # xgboost model\n",
        "from sklearn.ensemble import RandomForestRegressor     # random forest model\n",
        "from sklearn.svm import SVR                            # support vector regressor\n",
        "from sklearn.linear_model import (Lasso, Ridge,        # regularization\n",
        "ElasticNet, LassoCV, RidgeCV, ElasticNetCV)\n",
        "from sklearn.model_selection import GridSearchCV       # grid search to optimize parameters\n",
        "\n",
        "from sklearn.metrics import (r2_score,                 # import required metrics\n",
        "mean_squared_error,  mean_absolute_percentage_error, \n",
        "mean_absolute_error)"
      ],
      "metadata": {
        "id": "CMjaoGWLoyJW"
      },
      "execution_count": 427,
      "outputs": []
    },
    {
      "cell_type": "code",
      "source": [
        "from google.colab import drive\n",
        "drive.mount('/content/drive')"
      ],
      "metadata": {
        "colab": {
          "base_uri": "https://localhost:8080/"
        },
        "id": "ZNUHK9eYPiC0",
        "outputId": "a5390eef-8733-4d4c-feee-8c14f35c297c"
      },
      "execution_count": 428,
      "outputs": [
        {
          "output_type": "stream",
          "name": "stdout",
          "text": [
            "Drive already mounted at /content/drive; to attempt to forcibly remount, call drive.mount(\"/content/drive\", force_remount=True).\n"
          ]
        }
      ]
    },
    {
      "cell_type": "code",
      "execution_count": 429,
      "metadata": {
        "id": "WfTDL3NFoXVT"
      },
      "outputs": [],
      "source": [
        "# loading Dataset\n",
        "df = pd.read_csv('/content/drive/MyDrive/AlmaBetter/Yes Bank Stock Closing Price Prediction - Nitesh Verma/data_YesBank_StockPrices.csv') "
      ]
    },
    {
      "cell_type": "code",
      "source": [
        "# looking at first 5 rows\n",
        "df.head()"
      ],
      "metadata": {
        "colab": {
          "base_uri": "https://localhost:8080/",
          "height": 206
        },
        "id": "iGZSaIKrpi9a",
        "outputId": "66e9fb3f-7e26-40b8-fc80-e42c38197758"
      },
      "execution_count": 430,
      "outputs": [
        {
          "output_type": "execute_result",
          "data": {
            "text/plain": [
              "     Date   Open   High    Low  Close\n",
              "0  Jul-05  13.00  14.00  11.25  12.46\n",
              "1  Aug-05  12.58  14.88  12.55  13.42\n",
              "2  Sep-05  13.48  14.87  12.27  13.30\n",
              "3  Oct-05  13.20  14.47  12.40  12.99\n",
              "4  Nov-05  13.35  13.88  12.88  13.41"
            ],
            "text/html": [
              "\n",
              "  <div id=\"df-d34046b9-bb06-44be-9b2b-2aba1804dbdb\">\n",
              "    <div class=\"colab-df-container\">\n",
              "      <div>\n",
              "<style scoped>\n",
              "    .dataframe tbody tr th:only-of-type {\n",
              "        vertical-align: middle;\n",
              "    }\n",
              "\n",
              "    .dataframe tbody tr th {\n",
              "        vertical-align: top;\n",
              "    }\n",
              "\n",
              "    .dataframe thead th {\n",
              "        text-align: right;\n",
              "    }\n",
              "</style>\n",
              "<table border=\"1\" class=\"dataframe\">\n",
              "  <thead>\n",
              "    <tr style=\"text-align: right;\">\n",
              "      <th></th>\n",
              "      <th>Date</th>\n",
              "      <th>Open</th>\n",
              "      <th>High</th>\n",
              "      <th>Low</th>\n",
              "      <th>Close</th>\n",
              "    </tr>\n",
              "  </thead>\n",
              "  <tbody>\n",
              "    <tr>\n",
              "      <th>0</th>\n",
              "      <td>Jul-05</td>\n",
              "      <td>13.00</td>\n",
              "      <td>14.00</td>\n",
              "      <td>11.25</td>\n",
              "      <td>12.46</td>\n",
              "    </tr>\n",
              "    <tr>\n",
              "      <th>1</th>\n",
              "      <td>Aug-05</td>\n",
              "      <td>12.58</td>\n",
              "      <td>14.88</td>\n",
              "      <td>12.55</td>\n",
              "      <td>13.42</td>\n",
              "    </tr>\n",
              "    <tr>\n",
              "      <th>2</th>\n",
              "      <td>Sep-05</td>\n",
              "      <td>13.48</td>\n",
              "      <td>14.87</td>\n",
              "      <td>12.27</td>\n",
              "      <td>13.30</td>\n",
              "    </tr>\n",
              "    <tr>\n",
              "      <th>3</th>\n",
              "      <td>Oct-05</td>\n",
              "      <td>13.20</td>\n",
              "      <td>14.47</td>\n",
              "      <td>12.40</td>\n",
              "      <td>12.99</td>\n",
              "    </tr>\n",
              "    <tr>\n",
              "      <th>4</th>\n",
              "      <td>Nov-05</td>\n",
              "      <td>13.35</td>\n",
              "      <td>13.88</td>\n",
              "      <td>12.88</td>\n",
              "      <td>13.41</td>\n",
              "    </tr>\n",
              "  </tbody>\n",
              "</table>\n",
              "</div>\n",
              "      <button class=\"colab-df-convert\" onclick=\"convertToInteractive('df-d34046b9-bb06-44be-9b2b-2aba1804dbdb')\"\n",
              "              title=\"Convert this dataframe to an interactive table.\"\n",
              "              style=\"display:none;\">\n",
              "        \n",
              "  <svg xmlns=\"http://www.w3.org/2000/svg\" height=\"24px\"viewBox=\"0 0 24 24\"\n",
              "       width=\"24px\">\n",
              "    <path d=\"M0 0h24v24H0V0z\" fill=\"none\"/>\n",
              "    <path d=\"M18.56 5.44l.94 2.06.94-2.06 2.06-.94-2.06-.94-.94-2.06-.94 2.06-2.06.94zm-11 1L8.5 8.5l.94-2.06 2.06-.94-2.06-.94L8.5 2.5l-.94 2.06-2.06.94zm10 10l.94 2.06.94-2.06 2.06-.94-2.06-.94-.94-2.06-.94 2.06-2.06.94z\"/><path d=\"M17.41 7.96l-1.37-1.37c-.4-.4-.92-.59-1.43-.59-.52 0-1.04.2-1.43.59L10.3 9.45l-7.72 7.72c-.78.78-.78 2.05 0 2.83L4 21.41c.39.39.9.59 1.41.59.51 0 1.02-.2 1.41-.59l7.78-7.78 2.81-2.81c.8-.78.8-2.07 0-2.86zM5.41 20L4 18.59l7.72-7.72 1.47 1.35L5.41 20z\"/>\n",
              "  </svg>\n",
              "      </button>\n",
              "      \n",
              "  <style>\n",
              "    .colab-df-container {\n",
              "      display:flex;\n",
              "      flex-wrap:wrap;\n",
              "      gap: 12px;\n",
              "    }\n",
              "\n",
              "    .colab-df-convert {\n",
              "      background-color: #E8F0FE;\n",
              "      border: none;\n",
              "      border-radius: 50%;\n",
              "      cursor: pointer;\n",
              "      display: none;\n",
              "      fill: #1967D2;\n",
              "      height: 32px;\n",
              "      padding: 0 0 0 0;\n",
              "      width: 32px;\n",
              "    }\n",
              "\n",
              "    .colab-df-convert:hover {\n",
              "      background-color: #E2EBFA;\n",
              "      box-shadow: 0px 1px 2px rgba(60, 64, 67, 0.3), 0px 1px 3px 1px rgba(60, 64, 67, 0.15);\n",
              "      fill: #174EA6;\n",
              "    }\n",
              "\n",
              "    [theme=dark] .colab-df-convert {\n",
              "      background-color: #3B4455;\n",
              "      fill: #D2E3FC;\n",
              "    }\n",
              "\n",
              "    [theme=dark] .colab-df-convert:hover {\n",
              "      background-color: #434B5C;\n",
              "      box-shadow: 0px 1px 3px 1px rgba(0, 0, 0, 0.15);\n",
              "      filter: drop-shadow(0px 1px 2px rgba(0, 0, 0, 0.3));\n",
              "      fill: #FFFFFF;\n",
              "    }\n",
              "  </style>\n",
              "\n",
              "      <script>\n",
              "        const buttonEl =\n",
              "          document.querySelector('#df-d34046b9-bb06-44be-9b2b-2aba1804dbdb button.colab-df-convert');\n",
              "        buttonEl.style.display =\n",
              "          google.colab.kernel.accessAllowed ? 'block' : 'none';\n",
              "\n",
              "        async function convertToInteractive(key) {\n",
              "          const element = document.querySelector('#df-d34046b9-bb06-44be-9b2b-2aba1804dbdb');\n",
              "          const dataTable =\n",
              "            await google.colab.kernel.invokeFunction('convertToInteractive',\n",
              "                                                     [key], {});\n",
              "          if (!dataTable) return;\n",
              "\n",
              "          const docLinkHtml = 'Like what you see? Visit the ' +\n",
              "            '<a target=\"_blank\" href=https://colab.research.google.com/notebooks/data_table.ipynb>data table notebook</a>'\n",
              "            + ' to learn more about interactive tables.';\n",
              "          element.innerHTML = '';\n",
              "          dataTable['output_type'] = 'display_data';\n",
              "          await google.colab.output.renderOutput(dataTable, element);\n",
              "          const docLink = document.createElement('div');\n",
              "          docLink.innerHTML = docLinkHtml;\n",
              "          element.appendChild(docLink);\n",
              "        }\n",
              "      </script>\n",
              "    </div>\n",
              "  </div>\n",
              "  "
            ]
          },
          "metadata": {},
          "execution_count": 430
        }
      ]
    },
    {
      "cell_type": "code",
      "source": [
        "# looking at last 5 rows\n",
        "df.tail()"
      ],
      "metadata": {
        "colab": {
          "base_uri": "https://localhost:8080/",
          "height": 206
        },
        "id": "UYyMdlldtdYt",
        "outputId": "d4848297-aed3-4b02-b581-fc291c47cef7"
      },
      "execution_count": 431,
      "outputs": [
        {
          "output_type": "execute_result",
          "data": {
            "text/plain": [
              "       Date   Open   High    Low  Close\n",
              "180  Jul-20  25.60  28.30  11.10  11.95\n",
              "181  Aug-20  12.00  17.16  11.85  14.37\n",
              "182  Sep-20  14.30  15.34  12.75  13.15\n",
              "183  Oct-20  13.30  14.01  12.11  12.42\n",
              "184  Nov-20  12.41  14.90  12.21  14.67"
            ],
            "text/html": [
              "\n",
              "  <div id=\"df-d90896bd-0ceb-426f-b294-8aee38ddcbd0\">\n",
              "    <div class=\"colab-df-container\">\n",
              "      <div>\n",
              "<style scoped>\n",
              "    .dataframe tbody tr th:only-of-type {\n",
              "        vertical-align: middle;\n",
              "    }\n",
              "\n",
              "    .dataframe tbody tr th {\n",
              "        vertical-align: top;\n",
              "    }\n",
              "\n",
              "    .dataframe thead th {\n",
              "        text-align: right;\n",
              "    }\n",
              "</style>\n",
              "<table border=\"1\" class=\"dataframe\">\n",
              "  <thead>\n",
              "    <tr style=\"text-align: right;\">\n",
              "      <th></th>\n",
              "      <th>Date</th>\n",
              "      <th>Open</th>\n",
              "      <th>High</th>\n",
              "      <th>Low</th>\n",
              "      <th>Close</th>\n",
              "    </tr>\n",
              "  </thead>\n",
              "  <tbody>\n",
              "    <tr>\n",
              "      <th>180</th>\n",
              "      <td>Jul-20</td>\n",
              "      <td>25.60</td>\n",
              "      <td>28.30</td>\n",
              "      <td>11.10</td>\n",
              "      <td>11.95</td>\n",
              "    </tr>\n",
              "    <tr>\n",
              "      <th>181</th>\n",
              "      <td>Aug-20</td>\n",
              "      <td>12.00</td>\n",
              "      <td>17.16</td>\n",
              "      <td>11.85</td>\n",
              "      <td>14.37</td>\n",
              "    </tr>\n",
              "    <tr>\n",
              "      <th>182</th>\n",
              "      <td>Sep-20</td>\n",
              "      <td>14.30</td>\n",
              "      <td>15.34</td>\n",
              "      <td>12.75</td>\n",
              "      <td>13.15</td>\n",
              "    </tr>\n",
              "    <tr>\n",
              "      <th>183</th>\n",
              "      <td>Oct-20</td>\n",
              "      <td>13.30</td>\n",
              "      <td>14.01</td>\n",
              "      <td>12.11</td>\n",
              "      <td>12.42</td>\n",
              "    </tr>\n",
              "    <tr>\n",
              "      <th>184</th>\n",
              "      <td>Nov-20</td>\n",
              "      <td>12.41</td>\n",
              "      <td>14.90</td>\n",
              "      <td>12.21</td>\n",
              "      <td>14.67</td>\n",
              "    </tr>\n",
              "  </tbody>\n",
              "</table>\n",
              "</div>\n",
              "      <button class=\"colab-df-convert\" onclick=\"convertToInteractive('df-d90896bd-0ceb-426f-b294-8aee38ddcbd0')\"\n",
              "              title=\"Convert this dataframe to an interactive table.\"\n",
              "              style=\"display:none;\">\n",
              "        \n",
              "  <svg xmlns=\"http://www.w3.org/2000/svg\" height=\"24px\"viewBox=\"0 0 24 24\"\n",
              "       width=\"24px\">\n",
              "    <path d=\"M0 0h24v24H0V0z\" fill=\"none\"/>\n",
              "    <path d=\"M18.56 5.44l.94 2.06.94-2.06 2.06-.94-2.06-.94-.94-2.06-.94 2.06-2.06.94zm-11 1L8.5 8.5l.94-2.06 2.06-.94-2.06-.94L8.5 2.5l-.94 2.06-2.06.94zm10 10l.94 2.06.94-2.06 2.06-.94-2.06-.94-.94-2.06-.94 2.06-2.06.94z\"/><path d=\"M17.41 7.96l-1.37-1.37c-.4-.4-.92-.59-1.43-.59-.52 0-1.04.2-1.43.59L10.3 9.45l-7.72 7.72c-.78.78-.78 2.05 0 2.83L4 21.41c.39.39.9.59 1.41.59.51 0 1.02-.2 1.41-.59l7.78-7.78 2.81-2.81c.8-.78.8-2.07 0-2.86zM5.41 20L4 18.59l7.72-7.72 1.47 1.35L5.41 20z\"/>\n",
              "  </svg>\n",
              "      </button>\n",
              "      \n",
              "  <style>\n",
              "    .colab-df-container {\n",
              "      display:flex;\n",
              "      flex-wrap:wrap;\n",
              "      gap: 12px;\n",
              "    }\n",
              "\n",
              "    .colab-df-convert {\n",
              "      background-color: #E8F0FE;\n",
              "      border: none;\n",
              "      border-radius: 50%;\n",
              "      cursor: pointer;\n",
              "      display: none;\n",
              "      fill: #1967D2;\n",
              "      height: 32px;\n",
              "      padding: 0 0 0 0;\n",
              "      width: 32px;\n",
              "    }\n",
              "\n",
              "    .colab-df-convert:hover {\n",
              "      background-color: #E2EBFA;\n",
              "      box-shadow: 0px 1px 2px rgba(60, 64, 67, 0.3), 0px 1px 3px 1px rgba(60, 64, 67, 0.15);\n",
              "      fill: #174EA6;\n",
              "    }\n",
              "\n",
              "    [theme=dark] .colab-df-convert {\n",
              "      background-color: #3B4455;\n",
              "      fill: #D2E3FC;\n",
              "    }\n",
              "\n",
              "    [theme=dark] .colab-df-convert:hover {\n",
              "      background-color: #434B5C;\n",
              "      box-shadow: 0px 1px 3px 1px rgba(0, 0, 0, 0.15);\n",
              "      filter: drop-shadow(0px 1px 2px rgba(0, 0, 0, 0.3));\n",
              "      fill: #FFFFFF;\n",
              "    }\n",
              "  </style>\n",
              "\n",
              "      <script>\n",
              "        const buttonEl =\n",
              "          document.querySelector('#df-d90896bd-0ceb-426f-b294-8aee38ddcbd0 button.colab-df-convert');\n",
              "        buttonEl.style.display =\n",
              "          google.colab.kernel.accessAllowed ? 'block' : 'none';\n",
              "\n",
              "        async function convertToInteractive(key) {\n",
              "          const element = document.querySelector('#df-d90896bd-0ceb-426f-b294-8aee38ddcbd0');\n",
              "          const dataTable =\n",
              "            await google.colab.kernel.invokeFunction('convertToInteractive',\n",
              "                                                     [key], {});\n",
              "          if (!dataTable) return;\n",
              "\n",
              "          const docLinkHtml = 'Like what you see? Visit the ' +\n",
              "            '<a target=\"_blank\" href=https://colab.research.google.com/notebooks/data_table.ipynb>data table notebook</a>'\n",
              "            + ' to learn more about interactive tables.';\n",
              "          element.innerHTML = '';\n",
              "          dataTable['output_type'] = 'display_data';\n",
              "          await google.colab.output.renderOutput(dataTable, element);\n",
              "          const docLink = document.createElement('div');\n",
              "          docLink.innerHTML = docLinkHtml;\n",
              "          element.appendChild(docLink);\n",
              "        }\n",
              "      </script>\n",
              "    </div>\n",
              "  </div>\n",
              "  "
            ]
          },
          "metadata": {},
          "execution_count": 431
        }
      ]
    },
    {
      "cell_type": "code",
      "source": [
        "df.shape"
      ],
      "metadata": {
        "colab": {
          "base_uri": "https://localhost:8080/"
        },
        "id": "lOLMuuZEmyC2",
        "outputId": "05a20577-0332-4bb2-fcc6-68d73450b562"
      },
      "execution_count": 432,
      "outputs": [
        {
          "output_type": "execute_result",
          "data": {
            "text/plain": [
              "(185, 5)"
            ]
          },
          "metadata": {},
          "execution_count": 432
        }
      ]
    },
    {
      "cell_type": "code",
      "source": [
        "df.info()"
      ],
      "metadata": {
        "colab": {
          "base_uri": "https://localhost:8080/"
        },
        "id": "ahVIS-REpoUn",
        "outputId": "bb662c37-eb9d-4ec1-e571-fdd06d44aeb7"
      },
      "execution_count": 433,
      "outputs": [
        {
          "output_type": "stream",
          "name": "stdout",
          "text": [
            "<class 'pandas.core.frame.DataFrame'>\n",
            "RangeIndex: 185 entries, 0 to 184\n",
            "Data columns (total 5 columns):\n",
            " #   Column  Non-Null Count  Dtype  \n",
            "---  ------  --------------  -----  \n",
            " 0   Date    185 non-null    object \n",
            " 1   Open    185 non-null    float64\n",
            " 2   High    185 non-null    float64\n",
            " 3   Low     185 non-null    float64\n",
            " 4   Close   185 non-null    float64\n",
            "dtypes: float64(4), object(1)\n",
            "memory usage: 7.4+ KB\n"
          ]
        }
      ]
    },
    {
      "cell_type": "code",
      "source": [
        "df.describe()"
      ],
      "metadata": {
        "colab": {
          "base_uri": "https://localhost:8080/",
          "height": 300
        },
        "id": "a-H2UyQQpsVn",
        "outputId": "5718bb58-9282-46f9-d07b-9c887ff48f7c"
      },
      "execution_count": 434,
      "outputs": [
        {
          "output_type": "execute_result",
          "data": {
            "text/plain": [
              "             Open        High         Low       Close\n",
              "count  185.000000  185.000000  185.000000  185.000000\n",
              "mean   105.541405  116.104324   94.947838  105.204703\n",
              "std     98.879850  106.333497   91.219415   98.583153\n",
              "min     10.000000   11.240000    5.550000    9.980000\n",
              "25%     33.800000   36.140000   28.510000   33.450000\n",
              "50%     62.980000   72.550000   58.000000   62.540000\n",
              "75%    153.000000  169.190000  138.350000  153.300000\n",
              "max    369.950000  404.000000  345.500000  367.900000"
            ],
            "text/html": [
              "\n",
              "  <div id=\"df-9fe5e0c9-0a34-4eda-9b3c-f476aed4f7cc\">\n",
              "    <div class=\"colab-df-container\">\n",
              "      <div>\n",
              "<style scoped>\n",
              "    .dataframe tbody tr th:only-of-type {\n",
              "        vertical-align: middle;\n",
              "    }\n",
              "\n",
              "    .dataframe tbody tr th {\n",
              "        vertical-align: top;\n",
              "    }\n",
              "\n",
              "    .dataframe thead th {\n",
              "        text-align: right;\n",
              "    }\n",
              "</style>\n",
              "<table border=\"1\" class=\"dataframe\">\n",
              "  <thead>\n",
              "    <tr style=\"text-align: right;\">\n",
              "      <th></th>\n",
              "      <th>Open</th>\n",
              "      <th>High</th>\n",
              "      <th>Low</th>\n",
              "      <th>Close</th>\n",
              "    </tr>\n",
              "  </thead>\n",
              "  <tbody>\n",
              "    <tr>\n",
              "      <th>count</th>\n",
              "      <td>185.000000</td>\n",
              "      <td>185.000000</td>\n",
              "      <td>185.000000</td>\n",
              "      <td>185.000000</td>\n",
              "    </tr>\n",
              "    <tr>\n",
              "      <th>mean</th>\n",
              "      <td>105.541405</td>\n",
              "      <td>116.104324</td>\n",
              "      <td>94.947838</td>\n",
              "      <td>105.204703</td>\n",
              "    </tr>\n",
              "    <tr>\n",
              "      <th>std</th>\n",
              "      <td>98.879850</td>\n",
              "      <td>106.333497</td>\n",
              "      <td>91.219415</td>\n",
              "      <td>98.583153</td>\n",
              "    </tr>\n",
              "    <tr>\n",
              "      <th>min</th>\n",
              "      <td>10.000000</td>\n",
              "      <td>11.240000</td>\n",
              "      <td>5.550000</td>\n",
              "      <td>9.980000</td>\n",
              "    </tr>\n",
              "    <tr>\n",
              "      <th>25%</th>\n",
              "      <td>33.800000</td>\n",
              "      <td>36.140000</td>\n",
              "      <td>28.510000</td>\n",
              "      <td>33.450000</td>\n",
              "    </tr>\n",
              "    <tr>\n",
              "      <th>50%</th>\n",
              "      <td>62.980000</td>\n",
              "      <td>72.550000</td>\n",
              "      <td>58.000000</td>\n",
              "      <td>62.540000</td>\n",
              "    </tr>\n",
              "    <tr>\n",
              "      <th>75%</th>\n",
              "      <td>153.000000</td>\n",
              "      <td>169.190000</td>\n",
              "      <td>138.350000</td>\n",
              "      <td>153.300000</td>\n",
              "    </tr>\n",
              "    <tr>\n",
              "      <th>max</th>\n",
              "      <td>369.950000</td>\n",
              "      <td>404.000000</td>\n",
              "      <td>345.500000</td>\n",
              "      <td>367.900000</td>\n",
              "    </tr>\n",
              "  </tbody>\n",
              "</table>\n",
              "</div>\n",
              "      <button class=\"colab-df-convert\" onclick=\"convertToInteractive('df-9fe5e0c9-0a34-4eda-9b3c-f476aed4f7cc')\"\n",
              "              title=\"Convert this dataframe to an interactive table.\"\n",
              "              style=\"display:none;\">\n",
              "        \n",
              "  <svg xmlns=\"http://www.w3.org/2000/svg\" height=\"24px\"viewBox=\"0 0 24 24\"\n",
              "       width=\"24px\">\n",
              "    <path d=\"M0 0h24v24H0V0z\" fill=\"none\"/>\n",
              "    <path d=\"M18.56 5.44l.94 2.06.94-2.06 2.06-.94-2.06-.94-.94-2.06-.94 2.06-2.06.94zm-11 1L8.5 8.5l.94-2.06 2.06-.94-2.06-.94L8.5 2.5l-.94 2.06-2.06.94zm10 10l.94 2.06.94-2.06 2.06-.94-2.06-.94-.94-2.06-.94 2.06-2.06.94z\"/><path d=\"M17.41 7.96l-1.37-1.37c-.4-.4-.92-.59-1.43-.59-.52 0-1.04.2-1.43.59L10.3 9.45l-7.72 7.72c-.78.78-.78 2.05 0 2.83L4 21.41c.39.39.9.59 1.41.59.51 0 1.02-.2 1.41-.59l7.78-7.78 2.81-2.81c.8-.78.8-2.07 0-2.86zM5.41 20L4 18.59l7.72-7.72 1.47 1.35L5.41 20z\"/>\n",
              "  </svg>\n",
              "      </button>\n",
              "      \n",
              "  <style>\n",
              "    .colab-df-container {\n",
              "      display:flex;\n",
              "      flex-wrap:wrap;\n",
              "      gap: 12px;\n",
              "    }\n",
              "\n",
              "    .colab-df-convert {\n",
              "      background-color: #E8F0FE;\n",
              "      border: none;\n",
              "      border-radius: 50%;\n",
              "      cursor: pointer;\n",
              "      display: none;\n",
              "      fill: #1967D2;\n",
              "      height: 32px;\n",
              "      padding: 0 0 0 0;\n",
              "      width: 32px;\n",
              "    }\n",
              "\n",
              "    .colab-df-convert:hover {\n",
              "      background-color: #E2EBFA;\n",
              "      box-shadow: 0px 1px 2px rgba(60, 64, 67, 0.3), 0px 1px 3px 1px rgba(60, 64, 67, 0.15);\n",
              "      fill: #174EA6;\n",
              "    }\n",
              "\n",
              "    [theme=dark] .colab-df-convert {\n",
              "      background-color: #3B4455;\n",
              "      fill: #D2E3FC;\n",
              "    }\n",
              "\n",
              "    [theme=dark] .colab-df-convert:hover {\n",
              "      background-color: #434B5C;\n",
              "      box-shadow: 0px 1px 3px 1px rgba(0, 0, 0, 0.15);\n",
              "      filter: drop-shadow(0px 1px 2px rgba(0, 0, 0, 0.3));\n",
              "      fill: #FFFFFF;\n",
              "    }\n",
              "  </style>\n",
              "\n",
              "      <script>\n",
              "        const buttonEl =\n",
              "          document.querySelector('#df-9fe5e0c9-0a34-4eda-9b3c-f476aed4f7cc button.colab-df-convert');\n",
              "        buttonEl.style.display =\n",
              "          google.colab.kernel.accessAllowed ? 'block' : 'none';\n",
              "\n",
              "        async function convertToInteractive(key) {\n",
              "          const element = document.querySelector('#df-9fe5e0c9-0a34-4eda-9b3c-f476aed4f7cc');\n",
              "          const dataTable =\n",
              "            await google.colab.kernel.invokeFunction('convertToInteractive',\n",
              "                                                     [key], {});\n",
              "          if (!dataTable) return;\n",
              "\n",
              "          const docLinkHtml = 'Like what you see? Visit the ' +\n",
              "            '<a target=\"_blank\" href=https://colab.research.google.com/notebooks/data_table.ipynb>data table notebook</a>'\n",
              "            + ' to learn more about interactive tables.';\n",
              "          element.innerHTML = '';\n",
              "          dataTable['output_type'] = 'display_data';\n",
              "          await google.colab.output.renderOutput(dataTable, element);\n",
              "          const docLink = document.createElement('div');\n",
              "          docLink.innerHTML = docLinkHtml;\n",
              "          element.appendChild(docLink);\n",
              "        }\n",
              "      </script>\n",
              "    </div>\n",
              "  </div>\n",
              "  "
            ]
          },
          "metadata": {},
          "execution_count": 434
        }
      ]
    },
    {
      "cell_type": "code",
      "source": [
        "# looking column names, datatype of features, null values, unique values and their number of unique values\n",
        "df_columns_table=[[name,df[name].dtypes,df[name].isnull().sum(),round(df[name].isnull().sum()/len(df)*100, 2),\n",
        "                   df[name].nunique(),df[name].unique()] for name in df.columns]\n",
        "df_columns = pd.DataFrame(df_columns_table, columns = ['Column', 'Dtype', 'Null', 'Null (%)', 'nUnique', 'Unique'])\n",
        "df_columns"
      ],
      "metadata": {
        "colab": {
          "base_uri": "https://localhost:8080/",
          "height": 206
        },
        "id": "YJZck2Vaw-Wf",
        "outputId": "7e1f51f8-bca2-4c75-b4ef-ac0d5d7c49fd"
      },
      "execution_count": 435,
      "outputs": [
        {
          "output_type": "execute_result",
          "data": {
            "text/plain": [
              "  Column    Dtype  Null  Null (%)  nUnique  \\\n",
              "0   Date   object     0       0.0      185   \n",
              "1   Open  float64     0       0.0      183   \n",
              "2   High  float64     0       0.0      184   \n",
              "3    Low  float64     0       0.0      183   \n",
              "4  Close  float64     0       0.0      185   \n",
              "\n",
              "                                              Unique  \n",
              "0  [Jul-05, Aug-05, Sep-05, Oct-05, Nov-05, Dec-0...  \n",
              "1  [13.0, 12.58, 13.48, 13.2, 13.35, 13.49, 13.68...  \n",
              "2  [14.0, 14.88, 14.87, 14.47, 13.88, 14.44, 17.1...  \n",
              "3  [11.25, 12.55, 12.27, 12.4, 12.88, 13.0, 13.58...  \n",
              "4  [12.46, 13.42, 13.3, 12.99, 13.41, 13.71, 15.3...  "
            ],
            "text/html": [
              "\n",
              "  <div id=\"df-3c3d95a6-6235-4ee9-970e-c2381d543dca\">\n",
              "    <div class=\"colab-df-container\">\n",
              "      <div>\n",
              "<style scoped>\n",
              "    .dataframe tbody tr th:only-of-type {\n",
              "        vertical-align: middle;\n",
              "    }\n",
              "\n",
              "    .dataframe tbody tr th {\n",
              "        vertical-align: top;\n",
              "    }\n",
              "\n",
              "    .dataframe thead th {\n",
              "        text-align: right;\n",
              "    }\n",
              "</style>\n",
              "<table border=\"1\" class=\"dataframe\">\n",
              "  <thead>\n",
              "    <tr style=\"text-align: right;\">\n",
              "      <th></th>\n",
              "      <th>Column</th>\n",
              "      <th>Dtype</th>\n",
              "      <th>Null</th>\n",
              "      <th>Null (%)</th>\n",
              "      <th>nUnique</th>\n",
              "      <th>Unique</th>\n",
              "    </tr>\n",
              "  </thead>\n",
              "  <tbody>\n",
              "    <tr>\n",
              "      <th>0</th>\n",
              "      <td>Date</td>\n",
              "      <td>object</td>\n",
              "      <td>0</td>\n",
              "      <td>0.0</td>\n",
              "      <td>185</td>\n",
              "      <td>[Jul-05, Aug-05, Sep-05, Oct-05, Nov-05, Dec-0...</td>\n",
              "    </tr>\n",
              "    <tr>\n",
              "      <th>1</th>\n",
              "      <td>Open</td>\n",
              "      <td>float64</td>\n",
              "      <td>0</td>\n",
              "      <td>0.0</td>\n",
              "      <td>183</td>\n",
              "      <td>[13.0, 12.58, 13.48, 13.2, 13.35, 13.49, 13.68...</td>\n",
              "    </tr>\n",
              "    <tr>\n",
              "      <th>2</th>\n",
              "      <td>High</td>\n",
              "      <td>float64</td>\n",
              "      <td>0</td>\n",
              "      <td>0.0</td>\n",
              "      <td>184</td>\n",
              "      <td>[14.0, 14.88, 14.87, 14.47, 13.88, 14.44, 17.1...</td>\n",
              "    </tr>\n",
              "    <tr>\n",
              "      <th>3</th>\n",
              "      <td>Low</td>\n",
              "      <td>float64</td>\n",
              "      <td>0</td>\n",
              "      <td>0.0</td>\n",
              "      <td>183</td>\n",
              "      <td>[11.25, 12.55, 12.27, 12.4, 12.88, 13.0, 13.58...</td>\n",
              "    </tr>\n",
              "    <tr>\n",
              "      <th>4</th>\n",
              "      <td>Close</td>\n",
              "      <td>float64</td>\n",
              "      <td>0</td>\n",
              "      <td>0.0</td>\n",
              "      <td>185</td>\n",
              "      <td>[12.46, 13.42, 13.3, 12.99, 13.41, 13.71, 15.3...</td>\n",
              "    </tr>\n",
              "  </tbody>\n",
              "</table>\n",
              "</div>\n",
              "      <button class=\"colab-df-convert\" onclick=\"convertToInteractive('df-3c3d95a6-6235-4ee9-970e-c2381d543dca')\"\n",
              "              title=\"Convert this dataframe to an interactive table.\"\n",
              "              style=\"display:none;\">\n",
              "        \n",
              "  <svg xmlns=\"http://www.w3.org/2000/svg\" height=\"24px\"viewBox=\"0 0 24 24\"\n",
              "       width=\"24px\">\n",
              "    <path d=\"M0 0h24v24H0V0z\" fill=\"none\"/>\n",
              "    <path d=\"M18.56 5.44l.94 2.06.94-2.06 2.06-.94-2.06-.94-.94-2.06-.94 2.06-2.06.94zm-11 1L8.5 8.5l.94-2.06 2.06-.94-2.06-.94L8.5 2.5l-.94 2.06-2.06.94zm10 10l.94 2.06.94-2.06 2.06-.94-2.06-.94-.94-2.06-.94 2.06-2.06.94z\"/><path d=\"M17.41 7.96l-1.37-1.37c-.4-.4-.92-.59-1.43-.59-.52 0-1.04.2-1.43.59L10.3 9.45l-7.72 7.72c-.78.78-.78 2.05 0 2.83L4 21.41c.39.39.9.59 1.41.59.51 0 1.02-.2 1.41-.59l7.78-7.78 2.81-2.81c.8-.78.8-2.07 0-2.86zM5.41 20L4 18.59l7.72-7.72 1.47 1.35L5.41 20z\"/>\n",
              "  </svg>\n",
              "      </button>\n",
              "      \n",
              "  <style>\n",
              "    .colab-df-container {\n",
              "      display:flex;\n",
              "      flex-wrap:wrap;\n",
              "      gap: 12px;\n",
              "    }\n",
              "\n",
              "    .colab-df-convert {\n",
              "      background-color: #E8F0FE;\n",
              "      border: none;\n",
              "      border-radius: 50%;\n",
              "      cursor: pointer;\n",
              "      display: none;\n",
              "      fill: #1967D2;\n",
              "      height: 32px;\n",
              "      padding: 0 0 0 0;\n",
              "      width: 32px;\n",
              "    }\n",
              "\n",
              "    .colab-df-convert:hover {\n",
              "      background-color: #E2EBFA;\n",
              "      box-shadow: 0px 1px 2px rgba(60, 64, 67, 0.3), 0px 1px 3px 1px rgba(60, 64, 67, 0.15);\n",
              "      fill: #174EA6;\n",
              "    }\n",
              "\n",
              "    [theme=dark] .colab-df-convert {\n",
              "      background-color: #3B4455;\n",
              "      fill: #D2E3FC;\n",
              "    }\n",
              "\n",
              "    [theme=dark] .colab-df-convert:hover {\n",
              "      background-color: #434B5C;\n",
              "      box-shadow: 0px 1px 3px 1px rgba(0, 0, 0, 0.15);\n",
              "      filter: drop-shadow(0px 1px 2px rgba(0, 0, 0, 0.3));\n",
              "      fill: #FFFFFF;\n",
              "    }\n",
              "  </style>\n",
              "\n",
              "      <script>\n",
              "        const buttonEl =\n",
              "          document.querySelector('#df-3c3d95a6-6235-4ee9-970e-c2381d543dca button.colab-df-convert');\n",
              "        buttonEl.style.display =\n",
              "          google.colab.kernel.accessAllowed ? 'block' : 'none';\n",
              "\n",
              "        async function convertToInteractive(key) {\n",
              "          const element = document.querySelector('#df-3c3d95a6-6235-4ee9-970e-c2381d543dca');\n",
              "          const dataTable =\n",
              "            await google.colab.kernel.invokeFunction('convertToInteractive',\n",
              "                                                     [key], {});\n",
              "          if (!dataTable) return;\n",
              "\n",
              "          const docLinkHtml = 'Like what you see? Visit the ' +\n",
              "            '<a target=\"_blank\" href=https://colab.research.google.com/notebooks/data_table.ipynb>data table notebook</a>'\n",
              "            + ' to learn more about interactive tables.';\n",
              "          element.innerHTML = '';\n",
              "          dataTable['output_type'] = 'display_data';\n",
              "          await google.colab.output.renderOutput(dataTable, element);\n",
              "          const docLink = document.createElement('div');\n",
              "          docLink.innerHTML = docLinkHtml;\n",
              "          element.appendChild(docLink);\n",
              "        }\n",
              "      </script>\n",
              "    </div>\n",
              "  </div>\n",
              "  "
            ]
          },
          "metadata": {},
          "execution_count": 435
        }
      ]
    },
    {
      "cell_type": "code",
      "source": [
        "df['Date'] =df['Date'].apply(lambda x : datetime.strptime(x,'%b-%y'))"
      ],
      "metadata": {
        "id": "f1n0iXDp2l60"
      },
      "execution_count": 436,
      "outputs": []
    },
    {
      "cell_type": "code",
      "metadata": {
        "id": "VoZpfEQ0jCxJ",
        "colab": {
          "base_uri": "https://localhost:8080/",
          "height": 441
        },
        "outputId": "f8d0085c-08fd-42c8-e20c-7bd9eb03cb16"
      },
      "source": [
        "plt.scatter(df['Open'], df['Close'], alpha=0.5)\n",
        "plt.title('Open Vs Close')\n",
        "plt.xlabel('Open')\n",
        "plt.ylabel('Close')\n",
        "plt.show()"
      ],
      "execution_count": 437,
      "outputs": [
        {
          "output_type": "display_data",
          "data": {
            "text/plain": [
              "<Figure size 720x432 with 1 Axes>"
            ],
            "image/png": "[encoded data removed]"
          },
          "metadata": {}
        }
      ]
    },
    {
      "cell_type": "code",
      "source": [
        "# looking for outliers of every fearture of dataset with the help of boxplot\n",
        "import warnings\n",
        "warnings.simplefilter(action='ignore',category=FutureWarning)\n",
        "plt.figure(figsize = (20, 10))\n",
        "num_it = 1 \n",
        "\n",
        "for col in df.describe().columns:\n",
        "    plt.subplot(6,4,num_it)\n",
        "    sns.boxplot(df[col])\n",
        "    num_it+=1\n",
        "    \n",
        "plt.tight_layout()"
      ],
      "metadata": {
        "colab": {
          "base_uri": "https://localhost:8080/",
          "height": 138
        },
        "id": "RDvonc8ozdXd",
        "outputId": "b6993fa2-f952-42bb-90a3-f06bfbe82f33"
      },
      "execution_count": 438,
      "outputs": [
        {
          "output_type": "display_data",
          "data": {
            "text/plain": [
              "<Figure size 1440x720 with 4 Axes>"
            ],
            "image/png": "[encoded data removed]"
          },
          "metadata": {}
        }
      ]
    },
    {
      "cell_type": "code",
      "source": [
        "# ploting heat map finding correlation between columns\n",
        "hdf = df.corr()\n",
        "\n",
        "plt.subplots(figsize=(15, 10))\n",
        "sns.heatmap(hdf,annot = True,fmt='.2f', annot_kws={'size': 10},  vmax=.8, square=True);"
      ],
      "metadata": {
        "colab": {
          "base_uri": "https://localhost:8080/",
          "height": 632
        },
        "id": "eFzzPZ7ozmox",
        "outputId": "8edb2cdc-a5ca-4d29-a230-b66480285607"
      },
      "execution_count": 439,
      "outputs": [
        {
          "output_type": "display_data",
          "data": {
            "text/plain": [
              "<Figure size 1080x720 with 2 Axes>"
            ],
            "image/png": "[encoded data removed]"
          },
          "metadata": {}
        }
      ]
    },
    {
      "cell_type": "code",
      "source": [
        "num_it2 =1\n",
        "for i in df.columns:\n",
        "  plt.figure(figsize = (30, 30))\n",
        "  plt.subplot(8,6,num_it2)\n",
        "  sns.scatterplot(x = 'Close',y =i,data=df)\n",
        "  num_it2 +=1\n",
        "plt.show()"
      ],
      "metadata": {
        "colab": {
          "base_uri": "https://localhost:8080/",
          "height": 1000
        },
        "id": "LUaAYPym0GlX",
        "outputId": "2079b0f7-492d-40fe-c6c0-5804e0c5c763"
      },
      "execution_count": 440,
      "outputs": [
        {
          "output_type": "display_data",
          "data": {
            "text/plain": [
              "<Figure size 2160x2160 with 1 Axes>"
            ],
            "image/png": "[encoded data removed]"
          },
          "metadata": {}
        },
        {
          "output_type": "display_data",
          "data": {
            "text/plain": [
              "<Figure size 2160x2160 with 1 Axes>"
            ],
            "image/png": "[encoded data removed]"
          },
          "metadata": {}
        },
        {
          "output_type": "display_data",
          "data": {
            "text/plain": [
              "<Figure size 2160x2160 with 1 Axes>"
            ],
            "image/png": "[encoded data removed]"
          },
          "metadata": {}
        },
        {
          "output_type": "display_data",
          "data": {
            "text/plain": [
              "<Figure size 2160x2160 with 1 Axes>"
            ],
            "image/png": "[encoded data removed]"
          },
          "metadata": {}
        },
        {
          "output_type": "display_data",
          "data": {
            "text/plain": [
              "<Figure size 2160x2160 with 1 Axes>"
            ],
            "image/png": "[encoded data removed]"
          },
          "metadata": {}
        }
      ]
    },
    {
      "cell_type": "code",
      "source": [
        "df.isna().sum()"
      ],
      "metadata": {
        "colab": {
          "base_uri": "https://localhost:8080/"
        },
        "id": "qjpZ-WEy0snQ",
        "outputId": "93a7bf59-1558-4510-9005-c42967c7d3fc"
      },
      "execution_count": 441,
      "outputs": [
        {
          "output_type": "execute_result",
          "data": {
            "text/plain": [
              "Date     0\n",
              "Open     0\n",
              "High     0\n",
              "Low      0\n",
              "Close    0\n",
              "dtype: int64"
            ]
          },
          "metadata": {},
          "execution_count": 441
        }
      ]
    },
    {
      "cell_type": "code",
      "source": [
        "# Dependent variable 'Close'\n",
        "plt.figure(figsize=(7,7))\n",
        "sns.distplot(df['Close'],color=\"y\")"
      ],
      "metadata": {
        "colab": {
          "base_uri": "https://localhost:8080/",
          "height": 497
        },
        "id": "e88nG3grGedQ",
        "outputId": "a53db8ed-f284-4487-887e-da7154b6f594"
      },
      "execution_count": 442,
      "outputs": [
        {
          "output_type": "execute_result",
          "data": {
            "text/plain": [
              "<matplotlib.axes._subplots.AxesSubplot at 0x7f74ccca29d0>"
            ]
          },
          "metadata": {},
          "execution_count": 442
        },
        {
          "output_type": "display_data",
          "data": {
            "text/plain": [
              "<Figure size 504x504 with 1 Axes>"
            ],
            "image/png": "[encoded data removed]"
          },
          "metadata": {}
        }
      ]
    },
    {
      "cell_type": "code",
      "source": [
        "# Dependent variable 'Close'\n",
        "plt.figure(figsize=(7,7))\n",
        "sns.distplot(np.log10(df['Close']),color=\"y\")"
      ],
      "metadata": {
        "colab": {
          "base_uri": "https://localhost:8080/",
          "height": 497
        },
        "id": "9BvVhNAdGzJW",
        "outputId": "039c2bb2-2c8d-4a0c-dd40-e4d51d38e4ea"
      },
      "execution_count": 443,
      "outputs": [
        {
          "output_type": "execute_result",
          "data": {
            "text/plain": [
              "<matplotlib.axes._subplots.AxesSubplot at 0x7f74ccc207d0>"
            ]
          },
          "metadata": {},
          "execution_count": 443
        },
        {
          "output_type": "display_data",
          "data": {
            "text/plain": [
              "<Figure size 504x504 with 1 Axes>"
            ],
            "image/png": "[encoded data removed]"
          },
          "metadata": {}
        }
      ]
    },
    {
      "cell_type": "code",
      "source": [
        "numeric_features = df.describe().columns\n",
        "numeric_features"
      ],
      "metadata": {
        "colab": {
          "base_uri": "https://localhost:8080/"
        },
        "id": "-ZMo6wq0Hmaj",
        "outputId": "a175e8e0-2bf6-475b-fc00-8f61b77b7916"
      },
      "execution_count": 444,
      "outputs": [
        {
          "output_type": "execute_result",
          "data": {
            "text/plain": [
              "Index(['Open', 'High', 'Low', 'Close'], dtype='object')"
            ]
          },
          "metadata": {},
          "execution_count": 444
        }
      ]
    },
    {
      "cell_type": "code",
      "source": [
        "#@title Default title text\n",
        "# plot a bar plot for each numerical feature count\n",
        "\n",
        "for col in numeric_features[1:]:\n",
        "    fig = plt.figure(figsize=(9, 6))\n",
        "    ax = fig.gca()\n",
        "    feature = df[col]\n",
        "    feature.hist(bins=50, ax = ax)\n",
        "    ax.axvline(feature.mean(), color='magenta', linestyle='dashed', linewidth=2)\n",
        "    ax.axvline(feature.median(), color='cyan', linestyle='dashed', linewidth=2)    \n",
        "    ax.set_title(col)\n",
        "plt.show()"
      ],
      "metadata": {
        "colab": {
          "base_uri": "https://localhost:8080/",
          "height": 1000
        },
        "id": "TTHNj_B4Hguh",
        "outputId": "830aa240-af89-4a7c-e2f3-463fa51308ec"
      },
      "execution_count": 445,
      "outputs": [
        {
          "output_type": "display_data",
          "data": {
            "text/plain": [
              "<Figure size 648x432 with 1 Axes>"
            ],
            "image/png": "[encoded data removed]"
          },
          "metadata": {}
        },
        {
          "output_type": "display_data",
          "data": {
            "text/plain": [
              "<Figure size 648x432 with 1 Axes>"
            ],
            "image/png": "[encoded data removed]"
          },
          "metadata": {}
        },
        {
          "output_type": "display_data",
          "data": {
            "text/plain": [
              "<Figure size 648x432 with 1 Axes>"
            ],
            "image/png": "[encoded data removed]"
          },
          "metadata": {}
        }
      ]
    },
    {
      "cell_type": "code",
      "source": [
        "df.info()"
      ],
      "metadata": {
        "colab": {
          "base_uri": "https://localhost:8080/"
        },
        "id": "2NEhQ6pO32Na",
        "outputId": "53ea7d45-3dd3-4831-de25-442bdd243099"
      },
      "execution_count": 446,
      "outputs": [
        {
          "output_type": "stream",
          "name": "stdout",
          "text": [
            "<class 'pandas.core.frame.DataFrame'>\n",
            "RangeIndex: 185 entries, 0 to 184\n",
            "Data columns (total 5 columns):\n",
            " #   Column  Non-Null Count  Dtype         \n",
            "---  ------  --------------  -----         \n",
            " 0   Date    185 non-null    datetime64[ns]\n",
            " 1   Open    185 non-null    float64       \n",
            " 2   High    185 non-null    float64       \n",
            " 3   Low     185 non-null    float64       \n",
            " 4   Close   185 non-null    float64       \n",
            "dtypes: datetime64[ns](1), float64(4)\n",
            "memory usage: 7.4 KB\n"
          ]
        }
      ]
    },
    {
      "cell_type": "code",
      "source": [
        "# df['Year'] = df['Date'].apply(lambda x : x.year)\n",
        "# df['Month'] = df['Date'].apply(lambda x : x.month)"
      ],
      "metadata": {
        "id": "WJwabVbP5LRi"
      },
      "execution_count": 447,
      "outputs": []
    },
    {
      "cell_type": "code",
      "source": [
        "df.head()"
      ],
      "metadata": {
        "colab": {
          "base_uri": "https://localhost:8080/",
          "height": 206
        },
        "id": "0tUe1V5U6gT-",
        "outputId": "b6639027-616a-4b26-af7a-702a4dcf2964"
      },
      "execution_count": 448,
      "outputs": [
        {
          "output_type": "execute_result",
          "data": {
            "text/plain": [
              "        Date   Open   High    Low  Close\n",
              "0 2005-07-01  13.00  14.00  11.25  12.46\n",
              "1 2005-08-01  12.58  14.88  12.55  13.42\n",
              "2 2005-09-01  13.48  14.87  12.27  13.30\n",
              "3 2005-10-01  13.20  14.47  12.40  12.99\n",
              "4 2005-11-01  13.35  13.88  12.88  13.41"
            ],
            "text/html": [
              "\n",
              "  <div id=\"df-41e71ed0-eba7-4ed7-8838-07b16f4a6dbd\">\n",
              "    <div class=\"colab-df-container\">\n",
              "      <div>\n",
              "<style scoped>\n",
              "    .dataframe tbody tr th:only-of-type {\n",
              "        vertical-align: middle;\n",
              "    }\n",
              "\n",
              "    .dataframe tbody tr th {\n",
              "        vertical-align: top;\n",
              "    }\n",
              "\n",
              "    .dataframe thead th {\n",
              "        text-align: right;\n",
              "    }\n",
              "</style>\n",
              "<table border=\"1\" class=\"dataframe\">\n",
              "  <thead>\n",
              "    <tr style=\"text-align: right;\">\n",
              "      <th></th>\n",
              "      <th>Date</th>\n",
              "      <th>Open</th>\n",
              "      <th>High</th>\n",
              "      <th>Low</th>\n",
              "      <th>Close</th>\n",
              "    </tr>\n",
              "  </thead>\n",
              "  <tbody>\n",
              "    <tr>\n",
              "      <th>0</th>\n",
              "      <td>2005-07-01</td>\n",
              "      <td>13.00</td>\n",
              "      <td>14.00</td>\n",
              "      <td>11.25</td>\n",
              "      <td>12.46</td>\n",
              "    </tr>\n",
              "    <tr>\n",
              "      <th>1</th>\n",
              "      <td>2005-08-01</td>\n",
              "      <td>12.58</td>\n",
              "      <td>14.88</td>\n",
              "      <td>12.55</td>\n",
              "      <td>13.42</td>\n",
              "    </tr>\n",
              "    <tr>\n",
              "      <th>2</th>\n",
              "      <td>2005-09-01</td>\n",
              "      <td>13.48</td>\n",
              "      <td>14.87</td>\n",
              "      <td>12.27</td>\n",
              "      <td>13.30</td>\n",
              "    </tr>\n",
              "    <tr>\n",
              "      <th>3</th>\n",
              "      <td>2005-10-01</td>\n",
              "      <td>13.20</td>\n",
              "      <td>14.47</td>\n",
              "      <td>12.40</td>\n",
              "      <td>12.99</td>\n",
              "    </tr>\n",
              "    <tr>\n",
              "      <th>4</th>\n",
              "      <td>2005-11-01</td>\n",
              "      <td>13.35</td>\n",
              "      <td>13.88</td>\n",
              "      <td>12.88</td>\n",
              "      <td>13.41</td>\n",
              "    </tr>\n",
              "  </tbody>\n",
              "</table>\n",
              "</div>\n",
              "      <button class=\"colab-df-convert\" onclick=\"convertToInteractive('df-41e71ed0-eba7-4ed7-8838-07b16f4a6dbd')\"\n",
              "              title=\"Convert this dataframe to an interactive table.\"\n",
              "              style=\"display:none;\">\n",
              "        \n",
              "  <svg xmlns=\"http://www.w3.org/2000/svg\" height=\"24px\"viewBox=\"0 0 24 24\"\n",
              "       width=\"24px\">\n",
              "    <path d=\"M0 0h24v24H0V0z\" fill=\"none\"/>\n",
              "    <path d=\"M18.56 5.44l.94 2.06.94-2.06 2.06-.94-2.06-.94-.94-2.06-.94 2.06-2.06.94zm-11 1L8.5 8.5l.94-2.06 2.06-.94-2.06-.94L8.5 2.5l-.94 2.06-2.06.94zm10 10l.94 2.06.94-2.06 2.06-.94-2.06-.94-.94-2.06-.94 2.06-2.06.94z\"/><path d=\"M17.41 7.96l-1.37-1.37c-.4-.4-.92-.59-1.43-.59-.52 0-1.04.2-1.43.59L10.3 9.45l-7.72 7.72c-.78.78-.78 2.05 0 2.83L4 21.41c.39.39.9.59 1.41.59.51 0 1.02-.2 1.41-.59l7.78-7.78 2.81-2.81c.8-.78.8-2.07 0-2.86zM5.41 20L4 18.59l7.72-7.72 1.47 1.35L5.41 20z\"/>\n",
              "  </svg>\n",
              "      </button>\n",
              "      \n",
              "  <style>\n",
              "    .colab-df-container {\n",
              "      display:flex;\n",
              "      flex-wrap:wrap;\n",
              "      gap: 12px;\n",
              "    }\n",
              "\n",
              "    .colab-df-convert {\n",
              "      background-color: #E8F0FE;\n",
              "      border: none;\n",
              "      border-radius: 50%;\n",
              "      cursor: pointer;\n",
              "      display: none;\n",
              "      fill: #1967D2;\n",
              "      height: 32px;\n",
              "      padding: 0 0 0 0;\n",
              "      width: 32px;\n",
              "    }\n",
              "\n",
              "    .colab-df-convert:hover {\n",
              "      background-color: #E2EBFA;\n",
              "      box-shadow: 0px 1px 2px rgba(60, 64, 67, 0.3), 0px 1px 3px 1px rgba(60, 64, 67, 0.15);\n",
              "      fill: #174EA6;\n",
              "    }\n",
              "\n",
              "    [theme=dark] .colab-df-convert {\n",
              "      background-color: #3B4455;\n",
              "      fill: #D2E3FC;\n",
              "    }\n",
              "\n",
              "    [theme=dark] .colab-df-convert:hover {\n",
              "      background-color: #434B5C;\n",
              "      box-shadow: 0px 1px 3px 1px rgba(0, 0, 0, 0.15);\n",
              "      filter: drop-shadow(0px 1px 2px rgba(0, 0, 0, 0.3));\n",
              "      fill: #FFFFFF;\n",
              "    }\n",
              "  </style>\n",
              "\n",
              "      <script>\n",
              "        const buttonEl =\n",
              "          document.querySelector('#df-41e71ed0-eba7-4ed7-8838-07b16f4a6dbd button.colab-df-convert');\n",
              "        buttonEl.style.display =\n",
              "          google.colab.kernel.accessAllowed ? 'block' : 'none';\n",
              "\n",
              "        async function convertToInteractive(key) {\n",
              "          const element = document.querySelector('#df-41e71ed0-eba7-4ed7-8838-07b16f4a6dbd');\n",
              "          const dataTable =\n",
              "            await google.colab.kernel.invokeFunction('convertToInteractive',\n",
              "                                                     [key], {});\n",
              "          if (!dataTable) return;\n",
              "\n",
              "          const docLinkHtml = 'Like what you see? Visit the ' +\n",
              "            '<a target=\"_blank\" href=https://colab.research.google.com/notebooks/data_table.ipynb>data table notebook</a>'\n",
              "            + ' to learn more about interactive tables.';\n",
              "          element.innerHTML = '';\n",
              "          dataTable['output_type'] = 'display_data';\n",
              "          await google.colab.output.renderOutput(dataTable, element);\n",
              "          const docLink = document.createElement('div');\n",
              "          docLink.innerHTML = docLinkHtml;\n",
              "          element.appendChild(docLink);\n",
              "        }\n",
              "      </script>\n",
              "    </div>\n",
              "  </div>\n",
              "  "
            ]
          },
          "metadata": {},
          "execution_count": 448
        }
      ]
    },
    {
      "cell_type": "code",
      "source": [
        "df.info()"
      ],
      "metadata": {
        "colab": {
          "base_uri": "https://localhost:8080/"
        },
        "id": "XwTVXDkw7A68",
        "outputId": "3c74c93f-579d-4f2f-b5e7-39506a68507b"
      },
      "execution_count": 449,
      "outputs": [
        {
          "output_type": "stream",
          "name": "stdout",
          "text": [
            "<class 'pandas.core.frame.DataFrame'>\n",
            "RangeIndex: 185 entries, 0 to 184\n",
            "Data columns (total 5 columns):\n",
            " #   Column  Non-Null Count  Dtype         \n",
            "---  ------  --------------  -----         \n",
            " 0   Date    185 non-null    datetime64[ns]\n",
            " 1   Open    185 non-null    float64       \n",
            " 2   High    185 non-null    float64       \n",
            " 3   Low     185 non-null    float64       \n",
            " 4   Close   185 non-null    float64       \n",
            "dtypes: datetime64[ns](1), float64(4)\n",
            "memory usage: 7.4 KB\n"
          ]
        }
      ]
    },
    {
      "cell_type": "code",
      "source": [
        "df.drop('Date',axis=1,inplace=True)"
      ],
      "metadata": {
        "id": "UHfXZBGa7Zdj"
      },
      "execution_count": 450,
      "outputs": []
    },
    {
      "cell_type": "code",
      "source": [
        "df.head()"
      ],
      "metadata": {
        "colab": {
          "base_uri": "https://localhost:8080/",
          "height": 206
        },
        "id": "shHU552M9pTI",
        "outputId": "501ba935-6570-42cd-d019-525a592e8ae1"
      },
      "execution_count": 451,
      "outputs": [
        {
          "output_type": "execute_result",
          "data": {
            "text/plain": [
              "    Open   High    Low  Close\n",
              "0  13.00  14.00  11.25  12.46\n",
              "1  12.58  14.88  12.55  13.42\n",
              "2  13.48  14.87  12.27  13.30\n",
              "3  13.20  14.47  12.40  12.99\n",
              "4  13.35  13.88  12.88  13.41"
            ],
            "text/html": [
              "\n",
              "  <div id=\"df-0e00b165-6a73-4bbc-8220-962f53da3173\">\n",
              "    <div class=\"colab-df-container\">\n",
              "      <div>\n",
              "<style scoped>\n",
              "    .dataframe tbody tr th:only-of-type {\n",
              "        vertical-align: middle;\n",
              "    }\n",
              "\n",
              "    .dataframe tbody tr th {\n",
              "        vertical-align: top;\n",
              "    }\n",
              "\n",
              "    .dataframe thead th {\n",
              "        text-align: right;\n",
              "    }\n",
              "</style>\n",
              "<table border=\"1\" class=\"dataframe\">\n",
              "  <thead>\n",
              "    <tr style=\"text-align: right;\">\n",
              "      <th></th>\n",
              "      <th>Open</th>\n",
              "      <th>High</th>\n",
              "      <th>Low</th>\n",
              "      <th>Close</th>\n",
              "    </tr>\n",
              "  </thead>\n",
              "  <tbody>\n",
              "    <tr>\n",
              "      <th>0</th>\n",
              "      <td>13.00</td>\n",
              "      <td>14.00</td>\n",
              "      <td>11.25</td>\n",
              "      <td>12.46</td>\n",
              "    </tr>\n",
              "    <tr>\n",
              "      <th>1</th>\n",
              "      <td>12.58</td>\n",
              "      <td>14.88</td>\n",
              "      <td>12.55</td>\n",
              "      <td>13.42</td>\n",
              "    </tr>\n",
              "    <tr>\n",
              "      <th>2</th>\n",
              "      <td>13.48</td>\n",
              "      <td>14.87</td>\n",
              "      <td>12.27</td>\n",
              "      <td>13.30</td>\n",
              "    </tr>\n",
              "    <tr>\n",
              "      <th>3</th>\n",
              "      <td>13.20</td>\n",
              "      <td>14.47</td>\n",
              "      <td>12.40</td>\n",
              "      <td>12.99</td>\n",
              "    </tr>\n",
              "    <tr>\n",
              "      <th>4</th>\n",
              "      <td>13.35</td>\n",
              "      <td>13.88</td>\n",
              "      <td>12.88</td>\n",
              "      <td>13.41</td>\n",
              "    </tr>\n",
              "  </tbody>\n",
              "</table>\n",
              "</div>\n",
              "      <button class=\"colab-df-convert\" onclick=\"convertToInteractive('df-0e00b165-6a73-4bbc-8220-962f53da3173')\"\n",
              "              title=\"Convert this dataframe to an interactive table.\"\n",
              "              style=\"display:none;\">\n",
              "        \n",
              "  <svg xmlns=\"http://www.w3.org/2000/svg\" height=\"24px\"viewBox=\"0 0 24 24\"\n",
              "       width=\"24px\">\n",
              "    <path d=\"M0 0h24v24H0V0z\" fill=\"none\"/>\n",
              "    <path d=\"M18.56 5.44l.94 2.06.94-2.06 2.06-.94-2.06-.94-.94-2.06-.94 2.06-2.06.94zm-11 1L8.5 8.5l.94-2.06 2.06-.94-2.06-.94L8.5 2.5l-.94 2.06-2.06.94zm10 10l.94 2.06.94-2.06 2.06-.94-2.06-.94-.94-2.06-.94 2.06-2.06.94z\"/><path d=\"M17.41 7.96l-1.37-1.37c-.4-.4-.92-.59-1.43-.59-.52 0-1.04.2-1.43.59L10.3 9.45l-7.72 7.72c-.78.78-.78 2.05 0 2.83L4 21.41c.39.39.9.59 1.41.59.51 0 1.02-.2 1.41-.59l7.78-7.78 2.81-2.81c.8-.78.8-2.07 0-2.86zM5.41 20L4 18.59l7.72-7.72 1.47 1.35L5.41 20z\"/>\n",
              "  </svg>\n",
              "      </button>\n",
              "      \n",
              "  <style>\n",
              "    .colab-df-container {\n",
              "      display:flex;\n",
              "      flex-wrap:wrap;\n",
              "      gap: 12px;\n",
              "    }\n",
              "\n",
              "    .colab-df-convert {\n",
              "      background-color: #E8F0FE;\n",
              "      border: none;\n",
              "      border-radius: 50%;\n",
              "      cursor: pointer;\n",
              "      display: none;\n",
              "      fill: #1967D2;\n",
              "      height: 32px;\n",
              "      padding: 0 0 0 0;\n",
              "      width: 32px;\n",
              "    }\n",
              "\n",
              "    .colab-df-convert:hover {\n",
              "      background-color: #E2EBFA;\n",
              "      box-shadow: 0px 1px 2px rgba(60, 64, 67, 0.3), 0px 1px 3px 1px rgba(60, 64, 67, 0.15);\n",
              "      fill: #174EA6;\n",
              "    }\n",
              "\n",
              "    [theme=dark] .colab-df-convert {\n",
              "      background-color: #3B4455;\n",
              "      fill: #D2E3FC;\n",
              "    }\n",
              "\n",
              "    [theme=dark] .colab-df-convert:hover {\n",
              "      background-color: #434B5C;\n",
              "      box-shadow: 0px 1px 3px 1px rgba(0, 0, 0, 0.15);\n",
              "      filter: drop-shadow(0px 1px 2px rgba(0, 0, 0, 0.3));\n",
              "      fill: #FFFFFF;\n",
              "    }\n",
              "  </style>\n",
              "\n",
              "      <script>\n",
              "        const buttonEl =\n",
              "          document.querySelector('#df-0e00b165-6a73-4bbc-8220-962f53da3173 button.colab-df-convert');\n",
              "        buttonEl.style.display =\n",
              "          google.colab.kernel.accessAllowed ? 'block' : 'none';\n",
              "\n",
              "        async function convertToInteractive(key) {\n",
              "          const element = document.querySelector('#df-0e00b165-6a73-4bbc-8220-962f53da3173');\n",
              "          const dataTable =\n",
              "            await google.colab.kernel.invokeFunction('convertToInteractive',\n",
              "                                                     [key], {});\n",
              "          if (!dataTable) return;\n",
              "\n",
              "          const docLinkHtml = 'Like what you see? Visit the ' +\n",
              "            '<a target=\"_blank\" href=https://colab.research.google.com/notebooks/data_table.ipynb>data table notebook</a>'\n",
              "            + ' to learn more about interactive tables.';\n",
              "          element.innerHTML = '';\n",
              "          dataTable['output_type'] = 'display_data';\n",
              "          await google.colab.output.renderOutput(dataTable, element);\n",
              "          const docLink = document.createElement('div');\n",
              "          docLink.innerHTML = docLinkHtml;\n",
              "          element.appendChild(docLink);\n",
              "        }\n",
              "      </script>\n",
              "    </div>\n",
              "  </div>\n",
              "  "
            ]
          },
          "metadata": {},
          "execution_count": 451
        }
      ]
    },
    {
      "cell_type": "code",
      "source": [
        "dependent_variable = 'Close'"
      ],
      "metadata": {
        "id": "8wngaM_F-S14"
      },
      "execution_count": 452,
      "outputs": []
    },
    {
      "cell_type": "code",
      "source": [
        "# Create a list of independent variables\n",
        "independent_variables = list(set(df.columns.tolist()) - {dependent_variable})"
      ],
      "metadata": {
        "id": "VffVPn2RDwro"
      },
      "execution_count": 453,
      "outputs": []
    },
    {
      "cell_type": "code",
      "source": [
        "# Create the data of independent variables\n",
        "x = df[independent_variables].values\n",
        "\n",
        "# Create the dependent variable data\n",
        "y = df[dependent_variable].values"
      ],
      "metadata": {
        "id": "r2WPwlnIDzZI"
      },
      "execution_count": 454,
      "outputs": []
    },
    {
      "cell_type": "code",
      "source": [
        "df[independent_variables]"
      ],
      "metadata": {
        "colab": {
          "base_uri": "https://localhost:8080/",
          "height": 423
        },
        "id": "gntku-11D1lJ",
        "outputId": "711e3e18-b652-43da-89ea-e4040603050d"
      },
      "execution_count": 455,
      "outputs": [
        {
          "output_type": "execute_result",
          "data": {
            "text/plain": [
              "       Low   Open   High\n",
              "0    11.25  13.00  14.00\n",
              "1    12.55  12.58  14.88\n",
              "2    12.27  13.48  14.87\n",
              "3    12.40  13.20  14.47\n",
              "4    12.88  13.35  13.88\n",
              "..     ...    ...    ...\n",
              "180  11.10  25.60  28.30\n",
              "181  11.85  12.00  17.16\n",
              "182  12.75  14.30  15.34\n",
              "183  12.11  13.30  14.01\n",
              "184  12.21  12.41  14.90\n",
              "\n",
              "[185 rows x 3 columns]"
            ],
            "text/html": [
              "\n",
              "  <div id=\"df-1a9a1f09-9172-4d15-8fba-077ec2e42886\">\n",
              "    <div class=\"colab-df-container\">\n",
              "      <div>\n",
              "<style scoped>\n",
              "    .dataframe tbody tr th:only-of-type {\n",
              "        vertical-align: middle;\n",
              "    }\n",
              "\n",
              "    .dataframe tbody tr th {\n",
              "        vertical-align: top;\n",
              "    }\n",
              "\n",
              "    .dataframe thead th {\n",
              "        text-align: right;\n",
              "    }\n",
              "</style>\n",
              "<table border=\"1\" class=\"dataframe\">\n",
              "  <thead>\n",
              "    <tr style=\"text-align: right;\">\n",
              "      <th></th>\n",
              "      <th>Low</th>\n",
              "      <th>Open</th>\n",
              "      <th>High</th>\n",
              "    </tr>\n",
              "  </thead>\n",
              "  <tbody>\n",
              "    <tr>\n",
              "      <th>0</th>\n",
              "      <td>11.25</td>\n",
              "      <td>13.00</td>\n",
              "      <td>14.00</td>\n",
              "    </tr>\n",
              "    <tr>\n",
              "      <th>1</th>\n",
              "      <td>12.55</td>\n",
              "      <td>12.58</td>\n",
              "      <td>14.88</td>\n",
              "    </tr>\n",
              "    <tr>\n",
              "      <th>2</th>\n",
              "      <td>12.27</td>\n",
              "      <td>13.48</td>\n",
              "      <td>14.87</td>\n",
              "    </tr>\n",
              "    <tr>\n",
              "      <th>3</th>\n",
              "      <td>12.40</td>\n",
              "      <td>13.20</td>\n",
              "      <td>14.47</td>\n",
              "    </tr>\n",
              "    <tr>\n",
              "      <th>4</th>\n",
              "      <td>12.88</td>\n",
              "      <td>13.35</td>\n",
              "      <td>13.88</td>\n",
              "    </tr>\n",
              "    <tr>\n",
              "      <th>...</th>\n",
              "      <td>...</td>\n",
              "      <td>...</td>\n",
              "      <td>...</td>\n",
              "    </tr>\n",
              "    <tr>\n",
              "      <th>180</th>\n",
              "      <td>11.10</td>\n",
              "      <td>25.60</td>\n",
              "      <td>28.30</td>\n",
              "    </tr>\n",
              "    <tr>\n",
              "      <th>181</th>\n",
              "      <td>11.85</td>\n",
              "      <td>12.00</td>\n",
              "      <td>17.16</td>\n",
              "    </tr>\n",
              "    <tr>\n",
              "      <th>182</th>\n",
              "      <td>12.75</td>\n",
              "      <td>14.30</td>\n",
              "      <td>15.34</td>\n",
              "    </tr>\n",
              "    <tr>\n",
              "      <th>183</th>\n",
              "      <td>12.11</td>\n",
              "      <td>13.30</td>\n",
              "      <td>14.01</td>\n",
              "    </tr>\n",
              "    <tr>\n",
              "      <th>184</th>\n",
              "      <td>12.21</td>\n",
              "      <td>12.41</td>\n",
              "      <td>14.90</td>\n",
              "    </tr>\n",
              "  </tbody>\n",
              "</table>\n",
              "<p>185 rows × 3 columns</p>\n",
              "</div>\n",
              "      <button class=\"colab-df-convert\" onclick=\"convertToInteractive('df-1a9a1f09-9172-4d15-8fba-077ec2e42886')\"\n",
              "              title=\"Convert this dataframe to an interactive table.\"\n",
              "              style=\"display:none;\">\n",
              "        \n",
              "  <svg xmlns=\"http://www.w3.org/2000/svg\" height=\"24px\"viewBox=\"0 0 24 24\"\n",
              "       width=\"24px\">\n",
              "    <path d=\"M0 0h24v24H0V0z\" fill=\"none\"/>\n",
              "    <path d=\"M18.56 5.44l.94 2.06.94-2.06 2.06-.94-2.06-.94-.94-2.06-.94 2.06-2.06.94zm-11 1L8.5 8.5l.94-2.06 2.06-.94-2.06-.94L8.5 2.5l-.94 2.06-2.06.94zm10 10l.94 2.06.94-2.06 2.06-.94-2.06-.94-.94-2.06-.94 2.06-2.06.94z\"/><path d=\"M17.41 7.96l-1.37-1.37c-.4-.4-.92-.59-1.43-.59-.52 0-1.04.2-1.43.59L10.3 9.45l-7.72 7.72c-.78.78-.78 2.05 0 2.83L4 21.41c.39.39.9.59 1.41.59.51 0 1.02-.2 1.41-.59l7.78-7.78 2.81-2.81c.8-.78.8-2.07 0-2.86zM5.41 20L4 18.59l7.72-7.72 1.47 1.35L5.41 20z\"/>\n",
              "  </svg>\n",
              "      </button>\n",
              "      \n",
              "  <style>\n",
              "    .colab-df-container {\n",
              "      display:flex;\n",
              "      flex-wrap:wrap;\n",
              "      gap: 12px;\n",
              "    }\n",
              "\n",
              "    .colab-df-convert {\n",
              "      background-color: #E8F0FE;\n",
              "      border: none;\n",
              "      border-radius: 50%;\n",
              "      cursor: pointer;\n",
              "      display: none;\n",
              "      fill: #1967D2;\n",
              "      height: 32px;\n",
              "      padding: 0 0 0 0;\n",
              "      width: 32px;\n",
              "    }\n",
              "\n",
              "    .colab-df-convert:hover {\n",
              "      background-color: #E2EBFA;\n",
              "      box-shadow: 0px 1px 2px rgba(60, 64, 67, 0.3), 0px 1px 3px 1px rgba(60, 64, 67, 0.15);\n",
              "      fill: #174EA6;\n",
              "    }\n",
              "\n",
              "    [theme=dark] .colab-df-convert {\n",
              "      background-color: #3B4455;\n",
              "      fill: #D2E3FC;\n",
              "    }\n",
              "\n",
              "    [theme=dark] .colab-df-convert:hover {\n",
              "      background-color: #434B5C;\n",
              "      box-shadow: 0px 1px 3px 1px rgba(0, 0, 0, 0.15);\n",
              "      filter: drop-shadow(0px 1px 2px rgba(0, 0, 0, 0.3));\n",
              "      fill: #FFFFFF;\n",
              "    }\n",
              "  </style>\n",
              "\n",
              "      <script>\n",
              "        const buttonEl =\n",
              "          document.querySelector('#df-1a9a1f09-9172-4d15-8fba-077ec2e42886 button.colab-df-convert');\n",
              "        buttonEl.style.display =\n",
              "          google.colab.kernel.accessAllowed ? 'block' : 'none';\n",
              "\n",
              "        async function convertToInteractive(key) {\n",
              "          const element = document.querySelector('#df-1a9a1f09-9172-4d15-8fba-077ec2e42886');\n",
              "          const dataTable =\n",
              "            await google.colab.kernel.invokeFunction('convertToInteractive',\n",
              "                                                     [key], {});\n",
              "          if (!dataTable) return;\n",
              "\n",
              "          const docLinkHtml = 'Like what you see? Visit the ' +\n",
              "            '<a target=\"_blank\" href=https://colab.research.google.com/notebooks/data_table.ipynb>data table notebook</a>'\n",
              "            + ' to learn more about interactive tables.';\n",
              "          element.innerHTML = '';\n",
              "          dataTable['output_type'] = 'display_data';\n",
              "          await google.colab.output.renderOutput(dataTable, element);\n",
              "          const docLink = document.createElement('div');\n",
              "          docLink.innerHTML = docLinkHtml;\n",
              "          element.appendChild(docLink);\n",
              "        }\n",
              "      </script>\n",
              "    </div>\n",
              "  </div>\n",
              "  "
            ]
          },
          "metadata": {},
          "execution_count": 455
        }
      ]
    },
    {
      "cell_type": "code",
      "metadata": {
        "id": "u0pTjm94jCxN"
      },
      "source": [
        "# Splitting the dataset into the Training set and Test set\n",
        "x_train, x_test, y_train, y_test = train_test_split(x, y, test_size = 0.2, random_state = 0)"
      ],
      "execution_count": 456,
      "outputs": []
    },
    {
      "cell_type": "code",
      "metadata": {
        "colab": {
          "base_uri": "https://localhost:8080/"
        },
        "id": "26qmaXaVLDQ6",
        "outputId": "01017ea9-2aa6-459d-d1d9-b8d52bf3469c"
      },
      "source": [
        "x_train[0:10]"
      ],
      "execution_count": 457,
      "outputs": [
        {
          "output_type": "execute_result",
          "data": {
            "text/plain": [
              "array([[134.  , 142.08, 155.  ],\n",
              "       [ 16.02,  16.2 ,  20.95],\n",
              "       [ 57.71,  92.4 , 100.4 ],\n",
              "       [ 40.95,  59.5 ,  72.55],\n",
              "       [  9.94,  10.04,  17.51],\n",
              "       [ 44.8 ,  49.2 ,  78.94],\n",
              "       [ 47.3 ,  47.8 ,  52.06],\n",
              "       [ 35.02,  35.98,  41.04],\n",
              "       [ 30.24,  49.99,  55.56],\n",
              "       [ 11.1 ,  25.6 ,  28.3 ]])"
            ]
          },
          "metadata": {},
          "execution_count": 457
        }
      ]
    },
    {
      "cell_type": "code",
      "metadata": {
        "id": "ItSua8fKjCxN"
      },
      "source": [
        "# Transforming data (scaling of data)\n",
        "scaler = MinMaxScaler()\n",
        "x_train = scaler.fit_transform(x_train)\n",
        "x_test = scaler.transform(x_test)"
      ],
      "execution_count": 458,
      "outputs": []
    },
    {
      "cell_type": "code",
      "metadata": {
        "id": "UAZ0eFcOjCxN",
        "colab": {
          "base_uri": "https://localhost:8080/"
        },
        "outputId": "dac96637-48b4-456e-cfb3-4e72a6fb492f"
      },
      "source": [
        "x_train[0:10]"
      ],
      "execution_count": 459,
      "outputs": [
        {
          "output_type": "execute_result",
          "data": {
            "text/plain": [
              "array([[0.37784968, 0.37409338, 0.37416306],\n",
              "       [0.03079865, 0.0174524 , 0.02218721],\n",
              "       [0.15343433, 0.23334089, 0.23079953],\n",
              "       [0.10413296, 0.14012919, 0.15767362],\n",
              "       [0.01291366, 0.        , 0.01315479],\n",
              "       [0.11545816, 0.11094742, 0.17445188],\n",
              "       [0.12281218, 0.10698096, 0.10387292],\n",
              "       [0.08668922, 0.07349275, 0.07493764],\n",
              "       [0.07262833, 0.11318563, 0.11306289],\n",
              "       [0.01632593, 0.04408432, 0.04148615]])"
            ]
          },
          "metadata": {},
          "execution_count": 459
        }
      ]
    },
    {
      "cell_type": "code",
      "source": [
        "y_train"
      ],
      "metadata": {
        "colab": {
          "base_uri": "https://localhost:8080/"
        },
        "id": "zf2R17Lee3Lj",
        "outputId": "1986ceef-b2ab-4c08-fbba-f0df20cf98bd"
      },
      "execution_count": 460,
      "outputs": [
        {
          "output_type": "execute_result",
          "data": {
            "text/plain": [
              "array([154.57,  20.08,  64.76,  41.45,  15.45,  57.5 ,  50.97,  37.93,\n",
              "        50.54,  11.95,  85.71,  13.15,  34.55,  28.63, 326.14,  73.46,\n",
              "       354.45,  25.32,  47.31,  54.5 , 322.25,  12.26, 113.89,  33.51,\n",
              "       114.33,  59.5 , 346.2 ,  67.83,  97.49, 145.92,  43.48,  92.84,\n",
              "       108.38, 149.38,  14.37, 100.28,  70.3 ,  13.3 ,  53.83,  74.02,\n",
              "       188.73,  10.26,  18.03, 104.41,  55.61,  26.85, 108.7 , 176.52,\n",
              "       136.83,  48.65, 350.  ,  27.95,  40.99, 151.82,  92.2 ,  61.21,\n",
              "       206.39,  15.03,  61.02,  33.45,  31.93,  65.97,  17.84, 290.56,\n",
              "        35.98,  14.67, 137.9 ,  28.14,  22.78,  65.99,  82.7 ,  50.57,\n",
              "        73.74,  54.49,  12.99,  12.42, 181.75,  15.33,  61.98,  62.9 ,\n",
              "        72.85, 234.28,  16.16, 292.37, 183.45,  18.46,  12.46,  94.5 ,\n",
              "       188.05,  25.12,  15.62, 168.6 ,  61.59,  22.85,  57.1 ,  62.54,\n",
              "        13.42, 165.74, 315.05,  12.24,  88.14, 243.44, 169.65,  26.97,\n",
              "        24.13, 272.56,  53.41, 351.15, 172.91,  31.13,  46.18, 172.5 ,\n",
              "        49.42, 362.05, 137.67, 231.2 ,  33.75, 286.38, 367.9 , 314.35,\n",
              "        49.81,  73.76,  66.02,  69.14, 172.55, 306.8 ,  25.6 ,  62.13,\n",
              "        47.72,  36.99, 168.  ,  70.07,  39.2 ,  22.45,  13.58,  57.57,\n",
              "       309.82,  88.48,  60.07,  82.29,  25.45,  30.31,  19.49,  60.95,\n",
              "        51.29, 167.96,  29.68,  68.3 ])"
            ]
          },
          "metadata": {},
          "execution_count": 460
        }
      ]
    },
    {
      "cell_type": "code",
      "metadata": {
        "id": "5KalyOkljCxN",
        "colab": {
          "base_uri": "https://localhost:8080/"
        },
        "outputId": "654987c3-7ce6-40d8-8787-49948dcdaade"
      },
      "source": [
        "# Fitting Multiple Linear Regression to the Training set\n",
        "regressor = LinearRegression()\n",
        "regressor.fit(x_train, y_train)"
      ],
      "execution_count": 461,
      "outputs": [
        {
          "output_type": "execute_result",
          "data": {
            "text/plain": [
              "LinearRegression()"
            ]
          },
          "metadata": {},
          "execution_count": 461
        }
      ]
    },
    {
      "cell_type": "code",
      "metadata": {
        "colab": {
          "base_uri": "https://localhost:8080/"
        },
        "id": "d3yiMudZWWUL",
        "outputId": "cedba954-e634-4c75-dcdf-37fb23c936a4"
      },
      "source": [
        "# intercept\n",
        "regressor.intercept_"
      ],
      "execution_count": 462,
      "outputs": [
        {
          "output_type": "execute_result",
          "data": {
            "text/plain": [
              "8.457918910825043"
            ]
          },
          "metadata": {},
          "execution_count": 462
        }
      ]
    },
    {
      "cell_type": "code",
      "metadata": {
        "colab": {
          "base_uri": "https://localhost:8080/"
        },
        "id": "14hFZrgyWbJX",
        "outputId": "9d4a539a-934f-4a30-ed8b-e23d798f6557"
      },
      "source": [
        "# coefficent values\n",
        "regressor.coef_"
      ],
      "execution_count": 463,
      "outputs": [
        {
          "output_type": "execute_result",
          "data": {
            "text/plain": [
              "array([ 344.80781882, -155.44880876,  176.73898094])"
            ]
          },
          "metadata": {},
          "execution_count": 463
        }
      ]
    },
    {
      "cell_type": "code",
      "metadata": {
        "id": "SUlaN57qWqRV"
      },
      "source": [
        "# Predicting train dataset\n",
        "y_pred_train = regressor.predict(x_train)"
      ],
      "execution_count": 464,
      "outputs": []
    },
    {
      "cell_type": "code",
      "metadata": {
        "id": "hlsE-TkojCxO"
      },
      "source": [
        "# Predicting the Test set results\n",
        "y_pred = regressor.predict(x_test)"
      ],
      "execution_count": 466,
      "outputs": []
    },
    {
      "cell_type": "code",
      "metadata": {
        "colab": {
          "base_uri": "https://localhost:8080/"
        },
        "id": "dDB6XNNFXVAC",
        "outputId": "06aa037e-df05-4955-adee-6c68c1efc806"
      },
      "source": [
        "#Predicted profit on the test data\n",
        "y_pred"
      ],
      "execution_count": 467,
      "outputs": [
        {
          "output_type": "execute_result",
          "data": {
            "text/plain": [
              "array([ 32.05041945, 141.39404628,  44.6186774 , 142.1847688 ,\n",
              "        67.10693606,  32.62047222, 232.84048635,  18.11837716,\n",
              "        15.39523209, 214.31677099, 300.57479208,  87.42383581,\n",
              "       154.01722588,  59.84864685, 342.68198056, 260.7391185 ,\n",
              "        74.67777157,  28.85960368, 260.75411505,  51.64750396,\n",
              "        10.53811057, 118.55620032, 147.10778122,  59.92309426,\n",
              "       218.04859715,  47.9878126 , 250.16672269,  15.07529924,\n",
              "       108.6874867 ,  53.2946785 , 368.83014088, 339.95761347,\n",
              "        73.72840345, 167.96544878,  40.15717944,  48.9966109 ,\n",
              "       262.36562296])"
            ]
          },
          "metadata": {},
          "execution_count": 467
        }
      ]
    },
    {
      "cell_type": "code",
      "metadata": {
        "colab": {
          "base_uri": "https://localhost:8080/"
        },
        "id": "cX5kfj7vXUyb",
        "outputId": "9984dc81-7b4c-4a0b-e752-15846ba9ec85"
      },
      "source": [
        "# Actual profits on test data\n",
        "y_test"
      ],
      "execution_count": 468,
      "outputs": [
        {
          "output_type": "execute_result",
          "data": {
            "text/plain": [
              "array([ 34.06, 145.23,  46.95, 142.08,  62.22,  30.16, 231.26,  16.12,\n",
              "        13.71, 194.3 , 304.9 ,  91.3 , 153.3 ,  62.38, 339.6 , 275.05,\n",
              "        71.86,  26.83, 279.1 ,  49.84,   9.98, 111.7 , 147.95,  58.99,\n",
              "       221.3 ,  70.45, 250.85,  13.41, 108.21,  52.59, 343.4 , 361.96,\n",
              "        76.44, 163.31,  41.36,  47.32, 253.52])"
            ]
          },
          "metadata": {},
          "execution_count": 468
        }
      ]
    },
    {
      "cell_type": "code",
      "source": [
        "# Evaluation metrics for train data\n",
        "\n",
        "MSE_train  = mean_squared_error(y_train, y_pred_train)\n",
        "print(\"MSE for train dataset:\" , MSE_train)\n",
        "\n",
        "RMSE_train = np.sqrt(MSE_train)\n",
        "print(\"RMSE for train dataset:\" ,RMSE_train)\n",
        "\n",
        "MAE_train = mean_absolute_error(y_train, y_pred_train)\n",
        "print(\"MAE for train dataset:\",MAE_train)\n",
        "\n",
        "MAPE_train = mean_absolute_percentage_error(y_train, y_pred_train)\n",
        "print(\"MAPE for train dataset:\",MAPE_train)\n",
        "\n",
        "r2_train = r2_score(y_train, y_pred_train)\n",
        "print(\"R-SQUARE for train dataset:\",r2_train)\n",
        "\n",
        "adjusted_r2_train = 1-((1-r2_train)*((x_train.shape[0]-1)/(x_train.shape[0]-x_train.shape[1]-1)))\n",
        "print(\"Adjusted R2 for train dataset: \",adjusted_r2_train)"
      ],
      "metadata": {
        "colab": {
          "base_uri": "https://localhost:8080/"
        },
        "id": "oVDC4o3gvlg5",
        "outputId": "b7c7ad86-dd87-488b-cfe8-bf72962694fa"
      },
      "execution_count": 518,
      "outputs": [
        {
          "output_type": "stream",
          "name": "stdout",
          "text": [
            "MSE for train dataset: 41.07000603866704\n",
            "RMSE for train dataset: 6.408588459143483\n",
            "MAE for train dataset: 3.967317950568306\n",
            "MAPE for train dataset: 0.05860995526142276\n",
            "R-SQUARE for train dataset: 0.9954546486753905\n",
            "Adjusted R2 for train dataset:  0.9953599538561277\n"
          ]
        }
      ]
    },
    {
      "cell_type": "code",
      "source": [
        "# Evaluation metrics for test data\n",
        "\n",
        "MSE_test  = mean_squared_error(y_test, y_pred)\n",
        "print(\"MSE for test dataset:\" , MSE_test)\n",
        "\n",
        "RMSE_test = np.sqrt(MSE_test)\n",
        "print(\"RMSE for test dataset:\" ,RMSE_test)\n",
        "\n",
        "MAE_test = mean_absolute_error(y_test, y_pred)\n",
        "print(\"MAE for test dataset:\",MAE_test)\n",
        "\n",
        "MAPE_test = mean_absolute_percentage_error(y_test, y_pred)\n",
        "print(\"MAPE for test dataset:\",MAPE_test)\n",
        "\n",
        "r2_test = r2_score(y_test, y_pred)\n",
        "print(\"R-SQUARE for test dataset:\",r2_test)\n",
        "\n",
        "adjusted_r2_test = 1-((1-r2_test)*((x_test.shape[0]-1)/(x_test.shape[0]-x_test.shape[1]-1)))\n",
        "print(\"Adjusted R2 for test dataset: \",adjusted_r2_test)\n"
      ],
      "metadata": {
        "colab": {
          "base_uri": "https://localhost:8080/"
        },
        "id": "FH95ExW1gmgv",
        "outputId": "97e4ce8f-2062-438a-e8b6-e1f10cba35f8"
      },
      "execution_count": 517,
      "outputs": [
        {
          "output_type": "stream",
          "name": "stdout",
          "text": [
            "MSE for test dataset: 77.8729862468524\n",
            "RMSE for test dataset: 8.824567198840542\n",
            "MAE for test dataset: 5.397623269661969\n",
            "MAPE for test dataset: 0.05264390768993037\n",
            "R-SQUARE for test dataset: 0.9930815866308079\n",
            "Adjusted R2 for test dataset:  0.9924526399608814\n"
          ]
        }
      ]
    },
    {
      "cell_type": "code",
      "source": [
        "#Implementing ridge regression model\n",
        "ridge= Ridge()\n",
        "\n",
        "#Fitting the model\n",
        "ridge.fit(x_train,y_train)"
      ],
      "metadata": {
        "id": "aqs8B0sJPc9I",
        "colab": {
          "base_uri": "https://localhost:8080/"
        },
        "outputId": "dd14b351-39c2-4d8d-f3bd-1578c72a646f"
      },
      "execution_count": 521,
      "outputs": [
        {
          "output_type": "execute_result",
          "data": {
            "text/plain": [
              "Ridge()"
            ]
          },
          "metadata": {},
          "execution_count": 521
        }
      ]
    },
    {
      "cell_type": "code",
      "source": [
        "#Score \n",
        "ridge.score(x_train, y_train)"
      ],
      "metadata": {
        "id": "kQEYjqvhPc3d",
        "colab": {
          "base_uri": "https://localhost:8080/"
        },
        "outputId": "c1eff55f-6dac-44fd-9b8e-c73135ae2322"
      },
      "execution_count": 476,
      "outputs": [
        {
          "output_type": "execute_result",
          "data": {
            "text/plain": [
              "0.9828282092458902"
            ]
          },
          "metadata": {},
          "execution_count": 476
        }
      ]
    },
    {
      "cell_type": "code",
      "source": [
        "#Prediction\n",
        "y_pred_r = ridge.predict(x_test)"
      ],
      "metadata": {
        "id": "sd1hw1wbPczc"
      },
      "execution_count": 477,
      "outputs": []
    },
    {
      "cell_type": "code",
      "source": [
        "# Test performance\n",
        "print(\"MSE :\",mean_squared_error(y_test, y_pred_r))\n",
        "print(\"RMSE :\",math.sqrt(mean_squared_error(y_test, y_pred_r)))\n",
        "print(\"MAE :\",mean_absolute_error(y_test, y_pred_r))\n",
        "print(\"R2 :\",metrics.r2_score(y_test, y_pred_r))"
      ],
      "metadata": {
        "id": "NKmoK6XfPcxc",
        "colab": {
          "base_uri": "https://localhost:8080/"
        },
        "outputId": "5a2c2588-93e8-48eb-d10b-dbe6c5edb227"
      },
      "execution_count": 522,
      "outputs": [
        {
          "output_type": "stream",
          "name": "stdout",
          "text": [
            "MSE : 183.26510946377084\n",
            "RMSE : 13.537544439955528\n",
            "MAE : 7.717264185154191\n",
            "R2 : 0.983718310488294\n"
          ]
        }
      ]
    },
    {
      "cell_type": "code",
      "source": [
        "# Hyperprarameter tuning\n",
        "ridge = Ridge()\n",
        "parameters = {'alpha': [1e-15,1e-10,1e-8,1e-5,1e-4,1e-3,1e-2,1,5,10,8,6,19,20,21,30,40,45,50,55,60,100]}\n",
        "ridge_regressor = GridSearchCV(ridge, parameters, scoring='neg_mean_squared_error', cv=5)\n",
        "ridge_regressor.fit(x_train,y_train)"
      ],
      "metadata": {
        "id": "cfyTFCw82SHz",
        "colab": {
          "base_uri": "https://localhost:8080/"
        },
        "outputId": "26273011-97eb-4698-c815-d51a187911e1"
      },
      "execution_count": 479,
      "outputs": [
        {
          "output_type": "execute_result",
          "data": {
            "text/plain": [
              "GridSearchCV(cv=5, estimator=Ridge(),\n",
              "             param_grid={'alpha': [1e-15, 1e-10, 1e-08, 1e-05, 0.0001, 0.001,\n",
              "                                   0.01, 1, 5, 10, 8, 6, 19, 20, 21, 30, 40, 45,\n",
              "                                   50, 55, 60, 100]},\n",
              "             scoring='neg_mean_squared_error')"
            ]
          },
          "metadata": {},
          "execution_count": 479
        }
      ]
    },
    {
      "cell_type": "code",
      "source": [
        "print(\"The best fit alpha value is found out to be :\" ,ridge_regressor.best_params_)\n",
        "print(\"\\nUsing \",ridge_regressor.best_params_, \" the negative mean squared error is: \", ridge_regressor.best_score_)"
      ],
      "metadata": {
        "id": "kv1Ju6Gq36Gw",
        "colab": {
          "base_uri": "https://localhost:8080/"
        },
        "outputId": "510195fd-05bc-40be-adab-b705ff7f1a1b"
      },
      "execution_count": 480,
      "outputs": [
        {
          "output_type": "stream",
          "name": "stdout",
          "text": [
            "The best fit alpha value is found out to be : {'alpha': 0.01}\n",
            "\n",
            "Using  {'alpha': 0.01}  the negative mean squared error is:  -54.30297164101364\n"
          ]
        }
      ]
    },
    {
      "cell_type": "code",
      "source": [
        "#Model Prediction\n",
        "y_pred_ridge = ridge_regressor.predict(x_test)"
      ],
      "metadata": {
        "id": "rzdAfd6o36Ef"
      },
      "execution_count": 481,
      "outputs": []
    },
    {
      "cell_type": "code",
      "source": [
        "# Test performance\n",
        "print(\"MSE :\",mean_squared_error(y_test, y_pred_ridge))\n",
        "print(\"RMSE :\",math.sqrt(mean_squared_error(y_test, y_pred_ridge)))\n",
        "print(\"MAE :\",mean_absolute_error(y_test, y_pred_ridge))\n",
        "print(\"R2 :\",metrics.r2_score(y_test, y_pred_ridge))"
      ],
      "metadata": {
        "id": "1Xi9scas36CJ",
        "colab": {
          "base_uri": "https://localhost:8080/"
        },
        "outputId": "9245a1ed-faec-4163-bfd0-08c798e32556"
      },
      "execution_count": 482,
      "outputs": [
        {
          "output_type": "stream",
          "name": "stdout",
          "text": [
            "MSE : 83.61006196248064\n",
            "RMSE : 9.14385378068135\n",
            "MAE : 5.48545774072416\n",
            "R2 : 0.9925718917642818\n"
          ]
        }
      ]
    },
    {
      "cell_type": "markdown",
      "source": [
        "The best R^2 score is 81.49% for Ridge regression model\n"
      ],
      "metadata": {
        "id": "UfwYkb3M9i5z"
      }
    },
    {
      "cell_type": "code",
      "source": [
        "#Applying Lasso Regression model\n",
        "lasso  = Lasso(alpha=0.010 , max_iter= 3000)\n",
        "lasso.fit(x_train, y_train)"
      ],
      "metadata": {
        "id": "bjORlspP9dhp",
        "colab": {
          "base_uri": "https://localhost:8080/"
        },
        "outputId": "bdc2fc6e-5a76-44c3-a668-38645e263d55"
      },
      "execution_count": 483,
      "outputs": [
        {
          "output_type": "execute_result",
          "data": {
            "text/plain": [
              "Lasso(alpha=0.01, max_iter=3000)"
            ]
          },
          "metadata": {},
          "execution_count": 483
        }
      ]
    },
    {
      "cell_type": "code",
      "source": [
        "#Fitting lasso model\n",
        "lasso.fit(x_train, y_train)"
      ],
      "metadata": {
        "id": "KXPcf0tX90SN",
        "colab": {
          "base_uri": "https://localhost:8080/"
        },
        "outputId": "4b734858-d29a-4bbf-d35c-99d55b7de30d"
      },
      "execution_count": 484,
      "outputs": [
        {
          "output_type": "execute_result",
          "data": {
            "text/plain": [
              "Lasso(alpha=0.01, max_iter=3000)"
            ]
          },
          "metadata": {},
          "execution_count": 484
        }
      ]
    },
    {
      "cell_type": "code",
      "source": [
        "# prediction for lasso model\n",
        "y_pred_l = lasso.predict(x_test)"
      ],
      "metadata": {
        "id": "Axnv97mt93su"
      },
      "execution_count": 485,
      "outputs": []
    },
    {
      "cell_type": "code",
      "source": [
        "#performance metrics\n",
        "print(\"MSE :\",mean_squared_error(y_test, y_pred_l))\n",
        "print(\"RMSE :\",math.sqrt(mean_squared_error(y_test, y_pred_l)))\n",
        "print(\"MAE :\",mean_absolute_error(y_test, y_pred_l))\n",
        "print(\"R2 :\",metrics.r2_score(y_test, y_pred_l))"
      ],
      "metadata": {
        "id": "r2ShPQWl93pU",
        "colab": {
          "base_uri": "https://localhost:8080/"
        },
        "outputId": "7f7b4520-5b44-49c6-f33e-322a3971d69c"
      },
      "execution_count": 486,
      "outputs": [
        {
          "output_type": "stream",
          "name": "stdout",
          "text": [
            "MSE : 84.85710322984383\n",
            "RMSE : 9.21179153204434\n",
            "MAE : 5.559581066508854\n",
            "R2 : 0.9924611017793092\n"
          ]
        }
      ]
    },
    {
      "cell_type": "markdown",
      "source": [
        "The best R^2 score is 82% for Lasso regression model"
      ],
      "metadata": {
        "id": "GgOxlfiK-CiS"
      }
    },
    {
      "cell_type": "code",
      "source": [
        "from sklearn.model_selection import GridSearchCV\n",
        "### let's use  Cross validation\n",
        "lasso = Lasso()\n",
        "parameters = {'alpha': [1e-15,1e-13,1e-10,1e-8,1e-5,1e-4,1e-3,1e-2,1e-1,0.05,1,5,10,20,30,40,45,50,55,60,100]}\n",
        "lasso_regressor = GridSearchCV(lasso, parameters, scoring='neg_mean_squared_error', cv=3)\n",
        "lasso_regressor.fit(x_train, y_train)"
      ],
      "metadata": {
        "id": "dvvWgD2V93nT",
        "colab": {
          "base_uri": "https://localhost:8080/"
        },
        "outputId": "6f86bcb3-8ec8-4720-94d2-04c69c93939a"
      },
      "execution_count": 487,
      "outputs": [
        {
          "output_type": "execute_result",
          "data": {
            "text/plain": [
              "GridSearchCV(cv=3, estimator=Lasso(),\n",
              "             param_grid={'alpha': [1e-15, 1e-13, 1e-10, 1e-08, 1e-05, 0.0001,\n",
              "                                   0.001, 0.01, 0.1, 0.05, 1, 5, 10, 20, 30, 40,\n",
              "                                   45, 50, 55, 60, 100]},\n",
              "             scoring='neg_mean_squared_error')"
            ]
          },
          "metadata": {},
          "execution_count": 487
        }
      ]
    },
    {
      "cell_type": "code",
      "source": [
        "print(\"The best fit alpha value is found out to be :\" ,lasso_regressor.best_params_)\n",
        "print(\"\\nUsing \",lasso_regressor.best_params_, \" the negative mean squared error is: \", lasso_regressor.best_score_)"
      ],
      "metadata": {
        "id": "am4Hralk93hp",
        "colab": {
          "base_uri": "https://localhost:8080/"
        },
        "outputId": "a678a42a-7d01-4f68-dc06-b4964c751068"
      },
      "execution_count": 488,
      "outputs": [
        {
          "output_type": "stream",
          "name": "stdout",
          "text": [
            "The best fit alpha value is found out to be : {'alpha': 0.001}\n",
            "\n",
            "Using  {'alpha': 0.001}  the negative mean squared error is:  -57.32860374023426\n"
          ]
        }
      ]
    },
    {
      "cell_type": "code",
      "source": [
        "#prediction\n",
        "y_pred_lasso = lasso_regressor.predict(x_test)"
      ],
      "metadata": {
        "id": "qeaQwnEC93fy"
      },
      "execution_count": 489,
      "outputs": []
    },
    {
      "cell_type": "code",
      "source": [
        "# Test performance\n",
        "print(\"MSE :\",mean_squared_error(y_test, y_pred_lasso))\n",
        "print(\"RMSE :\",math.sqrt(mean_squared_error(y_test, y_pred_lasso)))\n",
        "print(\"MAE :\",mean_absolute_error(y_test, y_pred_lasso))\n",
        "print(\"R2 :\",metrics.r2_score(y_test, y_pred_lasso))"
      ],
      "metadata": {
        "id": "Jvt_tqCM93cC",
        "colab": {
          "base_uri": "https://localhost:8080/"
        },
        "outputId": "686196c2-f7d1-4d3a-ae28-cc73867af023"
      },
      "execution_count": 490,
      "outputs": [
        {
          "output_type": "stream",
          "name": "stdout",
          "text": [
            "MSE : 78.51666266038124\n",
            "RMSE : 8.860962851766237\n",
            "MAE : 5.414352952848678\n",
            "R2 : 0.9930244009529571\n"
          ]
        }
      ]
    },
    {
      "cell_type": "markdown",
      "source": [
        "Implementing the best parameters best R^2 score we have 82.00% for lasso regression model\n"
      ],
      "metadata": {
        "id": "iRhBft0j_TYr"
      }
    },
    {
      "cell_type": "code",
      "source": [
        "from sklearn.ensemble import RandomForestRegressor"
      ],
      "metadata": {
        "id": "Kri0YhO1BZke"
      },
      "execution_count": 491,
      "outputs": []
    },
    {
      "cell_type": "code",
      "source": [
        "rf = RandomForestRegressor()\n"
      ],
      "metadata": {
        "id": "EjmTXWpkBZfE"
      },
      "execution_count": 492,
      "outputs": []
    },
    {
      "cell_type": "code",
      "source": [
        "rf.fit(x,y)"
      ],
      "metadata": {
        "id": "p7P4AoMFq40_",
        "colab": {
          "base_uri": "https://localhost:8080/"
        },
        "outputId": "792ba639-2c1f-4490-af26-5264a2bbbd28"
      },
      "execution_count": 493,
      "outputs": [
        {
          "output_type": "execute_result",
          "data": {
            "text/plain": [
              "RandomForestRegressor()"
            ]
          },
          "metadata": {},
          "execution_count": 493
        }
      ]
    },
    {
      "cell_type": "code",
      "source": [
        "y_pred1 = rf.predict(x_test)"
      ],
      "metadata": {
        "id": "3pfYntHuri4N"
      },
      "execution_count": 494,
      "outputs": []
    },
    {
      "cell_type": "code",
      "source": [
        "y_pred1"
      ],
      "metadata": {
        "id": "5UFAaRWytpd8",
        "colab": {
          "base_uri": "https://localhost:8080/"
        },
        "outputId": "fc5594d2-2410-4ee0-fd4f-457a30a82a61"
      },
      "execution_count": 495,
      "outputs": [
        {
          "output_type": "execute_result",
          "data": {
            "text/plain": [
              "array([11.1284, 11.1284, 11.1284, 11.1284, 11.1284, 11.1284, 11.1284,\n",
              "       11.1284, 11.1284, 11.1284, 11.1284, 11.1284, 11.1284, 11.1284,\n",
              "       11.1284, 11.1284, 11.1284, 11.1284, 11.1284, 11.1284, 11.1284,\n",
              "       11.1284, 11.1284, 11.1284, 11.1284, 11.1284, 11.1284, 11.1284,\n",
              "       11.1284, 11.1284, 11.1284, 11.1284, 11.1284, 11.1284, 11.1284,\n",
              "       11.1284, 11.1284])"
            ]
          },
          "metadata": {},
          "execution_count": 495
        }
      ]
    },
    {
      "cell_type": "code",
      "source": [
        "mean_squared_error(y_test, y_pred1)"
      ],
      "metadata": {
        "id": "1ECyJgxduQ1w",
        "colab": {
          "base_uri": "https://localhost:8080/"
        },
        "outputId": "51a7adec-6e5a-4722-f9c5-334bb92b5181"
      },
      "execution_count": 496,
      "outputs": [
        {
          "output_type": "execute_result",
          "data": {
            "text/plain": [
              "25990.182655965404"
            ]
          },
          "metadata": {},
          "execution_count": 496
        }
      ]
    },
    {
      "cell_type": "code",
      "source": [
        "y = mean_squared_error(y_test, y_pred1)"
      ],
      "metadata": {
        "id": "QgJvoTExtrNl"
      },
      "execution_count": 497,
      "outputs": []
    },
    {
      "cell_type": "code",
      "source": [
        "np.sqrt(y)"
      ],
      "metadata": {
        "id": "zaxTLvaFtv8y",
        "colab": {
          "base_uri": "https://localhost:8080/"
        },
        "outputId": "d80facdd-17cb-46a9-ea3b-04d2e3630873"
      },
      "execution_count": 498,
      "outputs": [
        {
          "output_type": "execute_result",
          "data": {
            "text/plain": [
              "161.21470980020837"
            ]
          },
          "metadata": {},
          "execution_count": 498
        }
      ]
    },
    {
      "cell_type": "code",
      "source": [
        "from xgboost import XGBRegressor\n"
      ],
      "metadata": {
        "id": "eKrLqdnRuxV1"
      },
      "execution_count": 499,
      "outputs": []
    },
    {
      "cell_type": "code",
      "source": [
        "xgbr = XGBRegressor(verbosity = 0)\n",
        "print(xgbr)"
      ],
      "metadata": {
        "id": "kqv1tcbAuxSa",
        "colab": {
          "base_uri": "https://localhost:8080/"
        },
        "outputId": "17f9450b-3bdf-46d5-aad7-76b7b34e8f8e"
      },
      "execution_count": 500,
      "outputs": [
        {
          "output_type": "stream",
          "name": "stdout",
          "text": [
            "XGBRegressor(verbosity=0)\n"
          ]
        }
      ]
    },
    {
      "cell_type": "code",
      "source": [
        "xgbr.fit(x_train, y_train)\n",
        "score = xgbr.score(x_train, y_train)\n",
        "print(\"Training score:\", score)"
      ],
      "metadata": {
        "id": "r-3cGnqvuxOj",
        "colab": {
          "base_uri": "https://localhost:8080/"
        },
        "outputId": "4c916a1c-8248-4a52-b9cb-c42df82b79b6"
      },
      "execution_count": 501,
      "outputs": [
        {
          "output_type": "stream",
          "name": "stdout",
          "text": [
            "Training score: 0.9994694773614536\n"
          ]
        }
      ]
    },
    {
      "cell_type": "code",
      "source": [
        "cv_score = cross_val_score(xgbr, x_train, y_train, cv=10)"
      ],
      "metadata": {
        "id": "0bu1-Y86uxLs"
      },
      "execution_count": 502,
      "outputs": []
    },
    {
      "cell_type": "code",
      "source": [
        "cv_score.mean()"
      ],
      "metadata": {
        "id": "x4Lpgmvhv6Iv",
        "colab": {
          "base_uri": "https://localhost:8080/"
        },
        "outputId": "4be157b0-0f9b-4af1-cee8-f1ba9fec3bce"
      },
      "execution_count": 503,
      "outputs": [
        {
          "output_type": "execute_result",
          "data": {
            "text/plain": [
              "0.9887162904602691"
            ]
          },
          "metadata": {},
          "execution_count": 503
        }
      ]
    },
    {
      "cell_type": "code",
      "source": [
        "ypred2 = xgbr.predict(x_test)\n"
      ],
      "metadata": {
        "id": "lbnv6fVJv-Ls"
      },
      "execution_count": 504,
      "outputs": []
    },
    {
      "cell_type": "code",
      "source": [
        "mse3 = mean_squared_error(y_test, ypred2)\n"
      ],
      "metadata": {
        "id": "orQ1ve75wLII"
      },
      "execution_count": 505,
      "outputs": []
    },
    {
      "cell_type": "code",
      "source": [
        "mse3"
      ],
      "metadata": {
        "id": "VO9AAeAAwVl3",
        "colab": {
          "base_uri": "https://localhost:8080/"
        },
        "outputId": "be95b837-c6dc-4409-ee84-3061abc963e2"
      },
      "execution_count": 506,
      "outputs": [
        {
          "output_type": "execute_result",
          "data": {
            "text/plain": [
              "201.99489775260517"
            ]
          },
          "metadata": {},
          "execution_count": 506
        }
      ]
    },
    {
      "cell_type": "code",
      "source": [
        "rmse3 = np.sqrt(mse3)"
      ],
      "metadata": {
        "id": "VePPjtKtwWip"
      },
      "execution_count": 507,
      "outputs": []
    },
    {
      "cell_type": "code",
      "source": [
        "rmse3"
      ],
      "metadata": {
        "id": "tKj4nM30whZT",
        "colab": {
          "base_uri": "https://localhost:8080/"
        },
        "outputId": "b3e67752-5988-4edc-f4a9-b39d9991a371"
      },
      "execution_count": 508,
      "outputs": [
        {
          "output_type": "execute_result",
          "data": {
            "text/plain": [
              "14.212490905981442"
            ]
          },
          "metadata": {},
          "execution_count": 508
        }
      ]
    },
    {
      "cell_type": "code",
      "source": [
        "x_ax = range(len(y_test))\n",
        "plt.plot(x_ax,y_test, label='original')\n",
        "plt.plot(x_ax,ypred2, label='predicted')\n",
        "plt.title('original data and predicted data')\n",
        "plt.legend()\n",
        "plt.show()"
      ],
      "metadata": {
        "id": "DL8pKnmTwitL",
        "colab": {
          "base_uri": "https://localhost:8080/",
          "height": 419
        },
        "outputId": "f4709e7c-dec6-4aef-f44d-3278051d9e5b"
      },
      "execution_count": 509,
      "outputs": [
        {
          "output_type": "display_data",
          "data": {
            "text/plain": [
              "<Figure size 720x432 with 1 Axes>"
            ],
            "image/png": "[encoded data removed]"
          },
          "metadata": {}
        }
      ]
    }
  ]
}